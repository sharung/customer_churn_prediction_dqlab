{
  "nbformat": 4,
  "nbformat_minor": 0,
  "metadata": {
    "colab": {
      "provenance": []
    },
    "kernelspec": {
      "name": "python3",
      "display_name": "Python 3"
    },
    "language_info": {
      "name": "python"
    }
  },
  "cells": [
    {
      "cell_type": "markdown",
      "source": [
        "# Data Preprocessing\n",
        "Menyiapkan data\n",
        "  * mencari id pelanggan(nomer telepon) yang valid\n",
        "  * mengatasi data-data yang masih kosong (missing value)\n",
        "  * mengatasi nilai-nilai pencilan(otlier) dari tiap variable\n",
        "  * menstandardisasi nilai variable"
      ],
      "metadata": {
        "id": "2RK06cIsAUTi"
      }
    },
    {
      "cell_type": "code",
      "source": [
        "df_load = pd.read_csv('https://storage.googleapis.com/dqlab-dataset/dqlab_telco.csv')"
      ],
      "metadata": {
        "id": "_JYIW_DTVpEs"
      },
      "execution_count": 103,
      "outputs": []
    },
    {
      "cell_type": "markdown",
      "source": [
        "Untuk detail datanya adalah sebagai berikut:\n",
        "\n",
        "* UpdatedAt Periode of Data taken\n",
        "* customerID Customer ID\n",
        "* gender Whether the customer is a male or a female (Male, Female)\n",
        "* SeniorCitizen Whether the customer is a senior citizen or not (1, 0)\n",
        "* Partner Whether the customer has a partner or not (Yes, No)\n",
        "* Dependents Whether the customer has dependents or not (Yes, No)\n",
        "* tenure Number of months the customer has stayed with the company\n",
        "* PhoneService Whether the customer has a phone service or not (Yes, No)\n",
        "* MultipleLines Whether the customer has multiple lines or not (Yes, No, No phone service)\n",
        "* InternetService Customer’s internet service provider (DSL, Fiber optic, No)\n",
        "* OnlineSecurity Whether the customer has online security or not (Yes, No, No internet service)\n",
        "* OnlineBackup Whether the customer has online backup or not (Yes, No, No internet service)\n",
        "* DeviceProtection Whether the customer has device protection or not (Yes, No, No internet service)\n",
        "* TechSupport Whether the customer has tech support or not (Yes, No, No internet service)\n",
        "* StreamingTV Whether the customer has streaming TV or not (Yes, No, No internet service)\n",
        "* StreamingMovies Whether the customer has streaming movies or not (Yes, No, No internet service)\n",
        "* Contract The contract term of the customer (Month-to-month, One year, Two year)\n",
        "* PaperlessBilling Whether the customer has paperless billing or not (Yes, No)\n",
        "* PaymentMethod The customer’s payment method (Electronic check, Mailed check, Bank transfer (automatic), Credit card (automatic))\n",
        "* MonthlyCharges The amount charged to the customer monthly\n",
        "* TotalCharges The total amount charged to the customer\n",
        "* Churn Whether the customer churned or not (Yes or No)"
      ],
      "metadata": {
        "id": "xxpLMbEKUpkm"
      }
    },
    {
      "cell_type": "markdown",
      "source": [
        "# load data"
      ],
      "metadata": {
        "id": "i_Kf43RjzVrk"
      }
    },
    {
      "cell_type": "code",
      "source": [
        "import pandas as pd\n",
        "\n",
        "df_load = pd.read_csv('https://storage.googleapis.com/dqlab-dataset/dqlab_telco.csv')\n",
        "\n",
        "# menampilkan jumlah baris dan kolom\n",
        "print(df_load.shape)\n",
        "\n",
        "# menampilkan 5 data teratas\n",
        "print(df_load.head())\n",
        "\n",
        "# menampilkan total customer id yang memiliki id unique\n",
        "print(df_load['customerID'].nunique())"
      ],
      "metadata": {
        "colab": {
          "base_uri": "https://localhost:8080/"
        },
        "id": "JxCzWuJGUyyc",
        "outputId": "198d778a-b471-457e-901e-0e4ddf34041a"
      },
      "execution_count": 104,
      "outputs": [
        {
          "output_type": "stream",
          "name": "stdout",
          "text": [
            "(7113, 22)\n",
            "   UpdatedAt   customerID  gender  SeniorCitizen Partner Dependents  tenure  \\\n",
            "0     202006  45759018157  Female              0     Yes         No     1.0   \n",
            "1     202006  45557574145    Male              0      No         No    34.0   \n",
            "2     202006  45366876421    Male              0      No         No     2.0   \n",
            "3     202006  45779536532    Male              0      No         No    45.0   \n",
            "4     202006  45923787906  Female              0      No         No     2.0   \n",
            "\n",
            "  PhoneService     MultipleLines InternetService  ... DeviceProtection  \\\n",
            "0           No  No phone service             DSL  ...               No   \n",
            "1          Yes                No             DSL  ...              Yes   \n",
            "2          Yes                No             DSL  ...               No   \n",
            "3           No  No phone service             DSL  ...              Yes   \n",
            "4          Yes                No     Fiber optic  ...               No   \n",
            "\n",
            "  TechSupport StreamingTV StreamingMovies        Contract PaperlessBilling  \\\n",
            "0          No          No              No  Month-to-month              Yes   \n",
            "1          No          No              No        One year               No   \n",
            "2          No          No              No  Month-to-month              Yes   \n",
            "3         Yes          No              No        One year               No   \n",
            "4          No          No              No  Month-to-month              Yes   \n",
            "\n",
            "               PaymentMethod MonthlyCharges TotalCharges  Churn  \n",
            "0           Electronic check          29.85        29.85     No  \n",
            "1               Mailed check          56.95      1889.50     No  \n",
            "2               Mailed check          53.85       108.15    Yes  \n",
            "3  Bank transfer (automatic)          42.30      1840.75     No  \n",
            "4           Electronic check          70.70       151.65    Yes  \n",
            "\n",
            "[5 rows x 22 columns]\n",
            "7017\n"
          ]
        }
      ]
    },
    {
      "cell_type": "markdown",
      "source": [
        "# Memfilter ID Number Pelanggan Format Tertentu"
      ],
      "metadata": {
        "id": "R8t0oRSEzTH2"
      }
    },
    {
      "cell_type": "code",
      "source": [
        "df_load['valid'] = df_load['customerID'].astype(str).str.match(r'(45\\d{9,10})')\n",
        "df_load = (df_load[df_load['valid'] == True]).drop('valid', axis=1)\n",
        "print(df_load['customerID'].count())"
      ],
      "metadata": {
        "colab": {
          "base_uri": "https://localhost:8080/"
        },
        "id": "N34PeIrQX0Tx",
        "outputId": "b40f5ca4-df5a-4b6e-acd5-7f099eb224dd"
      },
      "execution_count": 105,
      "outputs": [
        {
          "output_type": "stream",
          "name": "stdout",
          "text": [
            "7006\n"
          ]
        }
      ]
    },
    {
      "cell_type": "markdown",
      "source": [
        "# Memfilter Duplikasi ID Number Pelanggan"
      ],
      "metadata": {
        "id": "O3b-X3wKZIhV"
      }
    },
    {
      "cell_type": "code",
      "source": [
        "# drop duplicates rows\n",
        "df_load.drop_duplicates()\n",
        "\n",
        "# drop duplicate ID sorted by period\n",
        "df_load = df_load.sort_values('UpdatedAt', ascending=False).drop_duplicates(['customerID'])\n",
        "df_load['customerID'].count()"
      ],
      "metadata": {
        "colab": {
          "base_uri": "https://localhost:8080/"
        },
        "id": "rPgbgIQ6CfEW",
        "outputId": "48177b4b-71b7-4fb7-c8d2-2d589115597c"
      },
      "execution_count": 106,
      "outputs": [
        {
          "output_type": "execute_result",
          "data": {
            "text/plain": [
              "6993"
            ]
          },
          "metadata": {},
          "execution_count": 106
        }
      ]
    },
    {
      "cell_type": "markdown",
      "source": [
        "# kesimpulan\n",
        "validitas dari id number pelanggan sangat diperlukan untuk memastikan bahwa data yang kita ambil sudah benar. berdasarkan dari hasil tersebut tedapat perbedaan jumlah nomor id dari pertama load sampai dengan hasil akhir.\n",
        "* pertama sebanyak 7113 row dan 22 columns dengan 7017 unique\n",
        "* kedua (setelah pengecekan validasi) sebanyak 6993"
      ],
      "metadata": {
        "id": "_SZuFKuXCdrm"
      }
    },
    {
      "cell_type": "markdown",
      "source": [
        "# Mengatasi Missing Values dengan Penghapusan Rows"
      ],
      "metadata": {
        "id": "cGN_PBR0ET19"
      }
    },
    {
      "cell_type": "code",
      "source": [
        "# cek total missing values\n",
        "print('Total missing values pada churn', df_load['Churn'].isnull().sum())\n",
        "\n",
        "# menghapus missing value pada churn\n",
        "df_load.dropna(subset=['Churn'], inplace=True)\n",
        "print('Total data setelah menghapus missing values', df_load.shape)"
      ],
      "metadata": {
        "colab": {
          "base_uri": "https://localhost:8080/"
        },
        "id": "JA7RGT3fNNBj",
        "outputId": "a372acc7-f311-4186-90b6-e782823188b7"
      },
      "execution_count": 107,
      "outputs": [
        {
          "output_type": "stream",
          "name": "stdout",
          "text": [
            "Total missing values pada churn 43\n",
            "Total data setelah menghapus missing values (6950, 22)\n"
          ]
        }
      ]
    },
    {
      "cell_type": "markdown",
      "source": [
        "# Mengatasi Missing Values dengan Pengisian Nilai tertentu"
      ],
      "metadata": {
        "id": "axzBQzbmNm5i"
      }
    },
    {
      "cell_type": "code",
      "source": [
        "# mengatasi missing value pada Tenure dengan diisi nilai 11\n",
        "df_load['tenure'].fillna(11, inplace=True)\n",
        "\n",
        "# variable yang bersifat numeric selain Tenure diisi dengan median dari masing\" value\n",
        "for i in list(['MonthlyCharges', 'TotalCharges']):\n",
        "  median = df_load[i].median()\n",
        "  df_load[i] = df_load[i].fillna(median)"
      ],
      "metadata": {
        "id": "0sYaHWRjRqzC"
      },
      "execution_count": 108,
      "outputs": []
    },
    {
      "cell_type": "code",
      "source": [
        "df_load.isnull().sum()"
      ],
      "metadata": {
        "colab": {
          "base_uri": "https://localhost:8080/"
        },
        "id": "ZyPvGNgtTmH3",
        "outputId": "41cf38d3-ecc8-433a-aa82-1f2df48cb2bf"
      },
      "execution_count": 109,
      "outputs": [
        {
          "output_type": "execute_result",
          "data": {
            "text/plain": [
              "UpdatedAt           0\n",
              "customerID          0\n",
              "gender              0\n",
              "SeniorCitizen       0\n",
              "Partner             0\n",
              "Dependents          0\n",
              "tenure              0\n",
              "PhoneService        0\n",
              "MultipleLines       0\n",
              "InternetService     0\n",
              "OnlineSecurity      0\n",
              "OnlineBackup        0\n",
              "DeviceProtection    0\n",
              "TechSupport         0\n",
              "StreamingTV         0\n",
              "StreamingMovies     0\n",
              "Contract            0\n",
              "PaperlessBilling    0\n",
              "PaymentMethod       0\n",
              "MonthlyCharges      0\n",
              "TotalCharges        0\n",
              "Churn               0\n",
              "dtype: int64"
            ]
          },
          "metadata": {},
          "execution_count": 109
        }
      ]
    },
    {
      "cell_type": "markdown",
      "source": [
        "# mendeteksi adanya outlier"
      ],
      "metadata": {
        "id": "82PgADsnTrlv"
      }
    },
    {
      "cell_type": "code",
      "source": [
        "df_load[['tenure', 'MonthlyCharges', 'TotalCharges']].describe()"
      ],
      "metadata": {
        "colab": {
          "base_uri": "https://localhost:8080/",
          "height": 0
        },
        "id": "YxrXyAtBWS7D",
        "outputId": "6340a38a-dde7-4b3a-fb51-4a611c94ff59"
      },
      "execution_count": 110,
      "outputs": [
        {
          "output_type": "execute_result",
          "data": {
            "text/plain": [
              "            tenure  MonthlyCharges  TotalCharges\n",
              "count  6950.000000     6950.000000   6950.000000\n",
              "mean     32.477266       65.783741   2305.083460\n",
              "std      25.188910       50.457871   2578.651143\n",
              "min       0.000000        0.000000     19.000000\n",
              "25%       9.000000       36.462500    406.975000\n",
              "50%      29.000000       70.450000   1400.850000\n",
              "75%      55.000000       89.850000   3799.837500\n",
              "max     500.000000     2311.000000  80000.000000"
            ],
            "text/html": [
              "\n",
              "  <div id=\"df-f96fa486-1a6c-4717-ae77-c83de3738171\">\n",
              "    <div class=\"colab-df-container\">\n",
              "      <div>\n",
              "<style scoped>\n",
              "    .dataframe tbody tr th:only-of-type {\n",
              "        vertical-align: middle;\n",
              "    }\n",
              "\n",
              "    .dataframe tbody tr th {\n",
              "        vertical-align: top;\n",
              "    }\n",
              "\n",
              "    .dataframe thead th {\n",
              "        text-align: right;\n",
              "    }\n",
              "</style>\n",
              "<table border=\"1\" class=\"dataframe\">\n",
              "  <thead>\n",
              "    <tr style=\"text-align: right;\">\n",
              "      <th></th>\n",
              "      <th>tenure</th>\n",
              "      <th>MonthlyCharges</th>\n",
              "      <th>TotalCharges</th>\n",
              "    </tr>\n",
              "  </thead>\n",
              "  <tbody>\n",
              "    <tr>\n",
              "      <th>count</th>\n",
              "      <td>6950.000000</td>\n",
              "      <td>6950.000000</td>\n",
              "      <td>6950.000000</td>\n",
              "    </tr>\n",
              "    <tr>\n",
              "      <th>mean</th>\n",
              "      <td>32.477266</td>\n",
              "      <td>65.783741</td>\n",
              "      <td>2305.083460</td>\n",
              "    </tr>\n",
              "    <tr>\n",
              "      <th>std</th>\n",
              "      <td>25.188910</td>\n",
              "      <td>50.457871</td>\n",
              "      <td>2578.651143</td>\n",
              "    </tr>\n",
              "    <tr>\n",
              "      <th>min</th>\n",
              "      <td>0.000000</td>\n",
              "      <td>0.000000</td>\n",
              "      <td>19.000000</td>\n",
              "    </tr>\n",
              "    <tr>\n",
              "      <th>25%</th>\n",
              "      <td>9.000000</td>\n",
              "      <td>36.462500</td>\n",
              "      <td>406.975000</td>\n",
              "    </tr>\n",
              "    <tr>\n",
              "      <th>50%</th>\n",
              "      <td>29.000000</td>\n",
              "      <td>70.450000</td>\n",
              "      <td>1400.850000</td>\n",
              "    </tr>\n",
              "    <tr>\n",
              "      <th>75%</th>\n",
              "      <td>55.000000</td>\n",
              "      <td>89.850000</td>\n",
              "      <td>3799.837500</td>\n",
              "    </tr>\n",
              "    <tr>\n",
              "      <th>max</th>\n",
              "      <td>500.000000</td>\n",
              "      <td>2311.000000</td>\n",
              "      <td>80000.000000</td>\n",
              "    </tr>\n",
              "  </tbody>\n",
              "</table>\n",
              "</div>\n",
              "      <button class=\"colab-df-convert\" onclick=\"convertToInteractive('df-f96fa486-1a6c-4717-ae77-c83de3738171')\"\n",
              "              title=\"Convert this dataframe to an interactive table.\"\n",
              "              style=\"display:none;\">\n",
              "        \n",
              "  <svg xmlns=\"http://www.w3.org/2000/svg\" height=\"24px\"viewBox=\"0 0 24 24\"\n",
              "       width=\"24px\">\n",
              "    <path d=\"M0 0h24v24H0V0z\" fill=\"none\"/>\n",
              "    <path d=\"M18.56 5.44l.94 2.06.94-2.06 2.06-.94-2.06-.94-.94-2.06-.94 2.06-2.06.94zm-11 1L8.5 8.5l.94-2.06 2.06-.94-2.06-.94L8.5 2.5l-.94 2.06-2.06.94zm10 10l.94 2.06.94-2.06 2.06-.94-2.06-.94-.94-2.06-.94 2.06-2.06.94z\"/><path d=\"M17.41 7.96l-1.37-1.37c-.4-.4-.92-.59-1.43-.59-.52 0-1.04.2-1.43.59L10.3 9.45l-7.72 7.72c-.78.78-.78 2.05 0 2.83L4 21.41c.39.39.9.59 1.41.59.51 0 1.02-.2 1.41-.59l7.78-7.78 2.81-2.81c.8-.78.8-2.07 0-2.86zM5.41 20L4 18.59l7.72-7.72 1.47 1.35L5.41 20z\"/>\n",
              "  </svg>\n",
              "      </button>\n",
              "      \n",
              "  <style>\n",
              "    .colab-df-container {\n",
              "      display:flex;\n",
              "      flex-wrap:wrap;\n",
              "      gap: 12px;\n",
              "    }\n",
              "\n",
              "    .colab-df-convert {\n",
              "      background-color: #E8F0FE;\n",
              "      border: none;\n",
              "      border-radius: 50%;\n",
              "      cursor: pointer;\n",
              "      display: none;\n",
              "      fill: #1967D2;\n",
              "      height: 32px;\n",
              "      padding: 0 0 0 0;\n",
              "      width: 32px;\n",
              "    }\n",
              "\n",
              "    .colab-df-convert:hover {\n",
              "      background-color: #E2EBFA;\n",
              "      box-shadow: 0px 1px 2px rgba(60, 64, 67, 0.3), 0px 1px 3px 1px rgba(60, 64, 67, 0.15);\n",
              "      fill: #174EA6;\n",
              "    }\n",
              "\n",
              "    [theme=dark] .colab-df-convert {\n",
              "      background-color: #3B4455;\n",
              "      fill: #D2E3FC;\n",
              "    }\n",
              "\n",
              "    [theme=dark] .colab-df-convert:hover {\n",
              "      background-color: #434B5C;\n",
              "      box-shadow: 0px 1px 3px 1px rgba(0, 0, 0, 0.15);\n",
              "      filter: drop-shadow(0px 1px 2px rgba(0, 0, 0, 0.3));\n",
              "      fill: #FFFFFF;\n",
              "    }\n",
              "  </style>\n",
              "\n",
              "      <script>\n",
              "        const buttonEl =\n",
              "          document.querySelector('#df-f96fa486-1a6c-4717-ae77-c83de3738171 button.colab-df-convert');\n",
              "        buttonEl.style.display =\n",
              "          google.colab.kernel.accessAllowed ? 'block' : 'none';\n",
              "\n",
              "        async function convertToInteractive(key) {\n",
              "          const element = document.querySelector('#df-f96fa486-1a6c-4717-ae77-c83de3738171');\n",
              "          const dataTable =\n",
              "            await google.colab.kernel.invokeFunction('convertToInteractive',\n",
              "                                                     [key], {});\n",
              "          if (!dataTable) return;\n",
              "\n",
              "          const docLinkHtml = 'Like what you see? Visit the ' +\n",
              "            '<a target=\"_blank\" href=https://colab.research.google.com/notebooks/data_table.ipynb>data table notebook</a>'\n",
              "            + ' to learn more about interactive tables.';\n",
              "          element.innerHTML = '';\n",
              "          dataTable['output_type'] = 'display_data';\n",
              "          await google.colab.output.renderOutput(dataTable, element);\n",
              "          const docLink = document.createElement('div');\n",
              "          docLink.innerHTML = docLinkHtml;\n",
              "          element.appendChild(docLink);\n",
              "        }\n",
              "      </script>\n",
              "    </div>\n",
              "  </div>\n",
              "  "
            ]
          },
          "metadata": {},
          "execution_count": 110
        }
      ]
    },
    {
      "cell_type": "code",
      "source": [
        "import matplotlib.pyplot as plt\n",
        "import seaborn as sns\n",
        "\n",
        "# # manual\n",
        "plt.figure()\n",
        "sns.boxplot(x = df_load['tenure'])\n",
        "plt.show()\n",
        "\n",
        "plt.figure()\n",
        "sns.boxplot(x = df_load['MonthlyCharges'])\n",
        "plt.show()\n",
        "\n",
        "plt.figure()\n",
        "sns.boxplot(x = df_load['TotalCharges'])\n",
        "plt.show()"
      ],
      "metadata": {
        "colab": {
          "base_uri": "https://localhost:8080/",
          "height": 0
        },
        "id": "nrC64ZZuWoPC",
        "outputId": "4f2e6cb9-3c05-4c14-b653-3cf5744052d2"
      },
      "execution_count": 111,
      "outputs": [
        {
          "output_type": "display_data",
          "data": {
            "text/plain": [
              "<Figure size 432x288 with 1 Axes>"
            ],
            "image/png": "[encoded data removed]"
          },
          "metadata": {}
        },
        {
          "output_type": "display_data",
          "data": {
            "text/plain": [
              "<Figure size 432x288 with 1 Axes>"
            ],
            "image/png": "[encoded data removed]"
          },
          "metadata": {}
        },
        {
          "output_type": "display_data",
          "data": {
            "text/plain": [
              "<Figure size 432x288 with 1 Axes>"
            ],
            "image/png": "[encoded data removed]"
          },
          "metadata": {}
        }
      ]
    },
    {
      "cell_type": "code",
      "source": [
        "# # with looping\n",
        "for i in list(['tenure', 'MonthlyCharges', 'TotalCharges']):\n",
        "  plt.figure()\n",
        "  sns.boxplot(x=df_load[i])\n",
        "  plt.show()"
      ],
      "metadata": {
        "id": "ofTNsONoaAtw",
        "colab": {
          "base_uri": "https://localhost:8080/",
          "height": 0
        },
        "outputId": "2de0c6ea-50e3-45fe-877e-7682cd2bbcec"
      },
      "execution_count": 112,
      "outputs": [
        {
          "output_type": "display_data",
          "data": {
            "text/plain": [
              "<Figure size 432x288 with 1 Axes>"
            ],
            "image/png": "[encoded data removed]"
          },
          "metadata": {}
        },
        {
          "output_type": "display_data",
          "data": {
            "text/plain": [
              "<Figure size 432x288 with 1 Axes>"
            ],
            "image/png": "[encoded data removed]"
          },
          "metadata": {}
        },
        {
          "output_type": "display_data",
          "data": {
            "text/plain": [
              "<Figure size 432x288 with 1 Axes>"
            ],
            "image/png": "[encoded data removed]"
          },
          "metadata": {}
        }
      ]
    },
    {
      "cell_type": "code",
      "source": [
        "# subplot\n",
        "feature = ['tenure', 'MonthlyCharges', 'TotalCharges']\n",
        "fig, ax = plt.subplots(ncols=3, nrows=1, figsize=(15,15))\n",
        "\n",
        "for i, feature in enumerate(feature, 1):\n",
        "  plt.subplot(3,1, i)\n",
        "  sns.boxplot(x=df_load[feature])"
      ],
      "metadata": {
        "id": "Qkg7LmNUZ-mr",
        "colab": {
          "base_uri": "https://localhost:8080/",
          "height": 0
        },
        "outputId": "08cefb5e-7fda-41ea-8542-b77b3e03f60a"
      },
      "execution_count": 113,
      "outputs": [
        {
          "output_type": "display_data",
          "data": {
            "text/plain": [
              "<Figure size 1080x1080 with 3 Axes>"
            ],
            "image/png": "[encoded data removed]"
          },
          "metadata": {}
        }
      ]
    },
    {
      "cell_type": "markdown",
      "source": [
        "# Mengatasi Outlier dengan Interquartile range (IQR)"
      ],
      "metadata": {
        "id": "k8te95dlXuYZ"
      }
    },
    {
      "cell_type": "code",
      "source": [
        "Q1 = df_load[['tenure', 'MonthlyCharges', 'TotalCharges']].quantile(0.25)\n",
        "Q3 = df_load[['tenure', 'MonthlyCharges', 'TotalCharges']].quantile(0.75)\n",
        "IQR = Q3 - Q1\n",
        "\n",
        "maximum = (Q3 + 1.5 * IQR)\n",
        "print('Nilai maximum dari masing-masing variable adalah:')\n",
        "print(maximum)\n",
        "\n",
        "minimum = (Q1 - 1.5 * IQR)\n",
        "print('Nilai minimum dari masing-masing variable adalah:')\n",
        "print(minimum)\n",
        "\n",
        "# cleaning\n",
        "more_then = (df_load > maximum)\n",
        "less_then = (df_load < minimum)\n",
        "\n",
        "df_load = df_load.mask(more_then, maximum, axis=1)\n",
        "df_load = df_load.mask(less_then, minimum, axis=1)\n",
        "\n",
        "print('Pesebaran data setelah di tangani outlier')\n",
        "print(df_load[['tenure', 'MonthlyCharges', 'TotalCharges']].describe())"
      ],
      "metadata": {
        "id": "gTdM2rSUd2_e",
        "colab": {
          "base_uri": "https://localhost:8080/"
        },
        "outputId": "b72fd536-f481-4eed-d7dd-9e447b8118d6"
      },
      "execution_count": 114,
      "outputs": [
        {
          "output_type": "stream",
          "name": "stdout",
          "text": [
            "Nilai maximum dari masing-masing variable adalah:\n",
            "tenure             124.00000\n",
            "MonthlyCharges     169.93125\n",
            "TotalCharges      8889.13125\n",
            "dtype: float64\n",
            "Nilai minimum dari masing-masing variable adalah:\n",
            "tenure             -60.00000\n",
            "MonthlyCharges     -43.61875\n",
            "TotalCharges     -4682.31875\n",
            "dtype: float64\n",
            "Pesebaran data setelah di tangani outlier\n",
            "            tenure  MonthlyCharges  TotalCharges\n",
            "count  6950.000000     6950.000000   6950.000000\n",
            "mean     32.423165       64.992201   2286.058750\n",
            "std      24.581073       30.032040   2265.702553\n",
            "min       0.000000        0.000000     19.000000\n",
            "25%       9.000000       36.462500    406.975000\n",
            "50%      29.000000       70.450000   1400.850000\n",
            "75%      55.000000       89.850000   3799.837500\n",
            "max     124.000000      169.931250   8889.131250\n"
          ]
        },
        {
          "output_type": "stream",
          "name": "stderr",
          "text": [
            "<ipython-input-114-6d2fe441d93b>:14: FutureWarning: Automatic reindexing on DataFrame vs Series comparisons is deprecated and will raise ValueError in a future version.  Do `left, right = left.align(right, axis=1, copy=False)` before e.g. `left == right`\n",
            "  more_then = (df_load > maximum)\n",
            "<ipython-input-114-6d2fe441d93b>:15: FutureWarning: Automatic reindexing on DataFrame vs Series comparisons is deprecated and will raise ValueError in a future version.  Do `left, right = left.align(right, axis=1, copy=False)` before e.g. `left == right`\n",
            "  less_then = (df_load < minimum)\n"
          ]
        }
      ]
    },
    {
      "cell_type": "code",
      "source": [
        "# Handling with IQR\n",
        "Q1 = (df_load[['tenure','MonthlyCharges','TotalCharges']]).quantile(0.25)\n",
        "Q3 = (df_load[['tenure','MonthlyCharges','TotalCharges']]).quantile(0.75)\n",
        "\n",
        "IQR = Q3 - Q1\n",
        "maximum = Q3 + (1.5*IQR)\n",
        "print('Nilai Maximum dari masing-masing Variable adalah: ')\n",
        "print(maximum)\n",
        "minimum = Q1 - (1.5*IQR)\n",
        "print('\\nNilai Minimum dari masing-masing Variable adalah: ')\n",
        "print(minimum)\n",
        "\n",
        "more_than = (df_load > maximum)\n",
        "lower_than = (df_load < minimum)\n",
        "df_load = df_load.mask(more_than, maximum, axis=1)\n",
        "df_load = df_load.mask(lower_than, minimum, axis=1)\n",
        "\n",
        "print('\\nPersebaran data setelah ditangani Outlier: ')\n",
        "print(df_load[['tenure','MonthlyCharges','TotalCharges']].describe())"
      ],
      "metadata": {
        "id": "X-tp86XxhLzJ",
        "colab": {
          "base_uri": "https://localhost:8080/"
        },
        "outputId": "db5f2fb0-f00e-4a57-c144-f3b70a08e73d"
      },
      "execution_count": 115,
      "outputs": [
        {
          "output_type": "stream",
          "name": "stdout",
          "text": [
            "Nilai Maximum dari masing-masing Variable adalah: \n",
            "tenure             124.00000\n",
            "MonthlyCharges     169.93125\n",
            "TotalCharges      8889.13125\n",
            "dtype: float64\n",
            "\n",
            "Nilai Minimum dari masing-masing Variable adalah: \n",
            "tenure             -60.00000\n",
            "MonthlyCharges     -43.61875\n",
            "TotalCharges     -4682.31875\n",
            "dtype: float64\n",
            "\n",
            "Persebaran data setelah ditangani Outlier: \n",
            "            tenure  MonthlyCharges  TotalCharges\n",
            "count  6950.000000     6950.000000   6950.000000\n",
            "mean     32.423165       64.992201   2286.058750\n",
            "std      24.581073       30.032040   2265.702553\n",
            "min       0.000000        0.000000     19.000000\n",
            "25%       9.000000       36.462500    406.975000\n",
            "50%      29.000000       70.450000   1400.850000\n",
            "75%      55.000000       89.850000   3799.837500\n",
            "max     124.000000      169.931250   8889.131250\n"
          ]
        },
        {
          "output_type": "stream",
          "name": "stderr",
          "text": [
            "<ipython-input-115-4dbbfea03a56>:13: FutureWarning: Automatic reindexing on DataFrame vs Series comparisons is deprecated and will raise ValueError in a future version.  Do `left, right = left.align(right, axis=1, copy=False)` before e.g. `left == right`\n",
            "  more_than = (df_load > maximum)\n",
            "<ipython-input-115-4dbbfea03a56>:14: FutureWarning: Automatic reindexing on DataFrame vs Series comparisons is deprecated and will raise ValueError in a future version.  Do `left, right = left.align(right, axis=1, copy=False)` before e.g. `left == right`\n",
            "  lower_than = (df_load < minimum)\n"
          ]
        }
      ]
    },
    {
      "cell_type": "markdown",
      "source": [
        "# Mendeteksi Nilai yang tidak standar"
      ],
      "metadata": {
        "id": "l1tE9aTgx10d"
      }
    },
    {
      "cell_type": "code",
      "source": [
        "for col_name in list(['gender','SeniorCitizen','Partner','Dependents','PhoneService','MultipleLines','InternetService','OnlineSecurity','OnlineBackup','DeviceProtection','TechSupport','StreamingTV','StreamingMovies','Contract','PaperlessBilling','PaymentMethod','Churn']):\n",
        "\tprint('\\nUnique Values Count \\033[1m' + 'Before Standardized \\033[0m Variable',col_name)\n",
        "\tprint(df_load[col_name].value_counts())"
      ],
      "metadata": {
        "colab": {
          "base_uri": "https://localhost:8080/"
        },
        "id": "TQjk-qaex4nL",
        "outputId": "1c2b0fa5-0300-4a8e-e5dc-c8a5ab97ab93"
      },
      "execution_count": 116,
      "outputs": [
        {
          "output_type": "stream",
          "name": "stdout",
          "text": [
            "\n",
            "Unique Values Count \u001b[1mBefore Standardized \u001b[0m Variable gender\n",
            "Male         3499\n",
            "Female       3431\n",
            "Wanita         14\n",
            "Laki-Laki       6\n",
            "Name: gender, dtype: int64\n",
            "\n",
            "Unique Values Count \u001b[1mBefore Standardized \u001b[0m Variable SeniorCitizen\n",
            "0    5822\n",
            "1    1128\n",
            "Name: SeniorCitizen, dtype: int64\n",
            "\n",
            "Unique Values Count \u001b[1mBefore Standardized \u001b[0m Variable Partner\n",
            "No     3591\n",
            "Yes    3359\n",
            "Name: Partner, dtype: int64\n",
            "\n",
            "Unique Values Count \u001b[1mBefore Standardized \u001b[0m Variable Dependents\n",
            "No     4870\n",
            "Yes    2060\n",
            "Iya      20\n",
            "Name: Dependents, dtype: int64\n",
            "\n",
            "Unique Values Count \u001b[1mBefore Standardized \u001b[0m Variable PhoneService\n",
            "Yes    6281\n",
            "No      669\n",
            "Name: PhoneService, dtype: int64\n",
            "\n",
            "Unique Values Count \u001b[1mBefore Standardized \u001b[0m Variable MultipleLines\n",
            "No                  3346\n",
            "Yes                 2935\n",
            "No phone service     669\n",
            "Name: MultipleLines, dtype: int64\n",
            "\n",
            "Unique Values Count \u001b[1mBefore Standardized \u001b[0m Variable InternetService\n",
            "Fiber optic    3057\n",
            "DSL            2388\n",
            "No             1505\n",
            "Name: InternetService, dtype: int64\n",
            "\n",
            "Unique Values Count \u001b[1mBefore Standardized \u001b[0m Variable OnlineSecurity\n",
            "No                     3454\n",
            "Yes                    1991\n",
            "No internet service    1505\n",
            "Name: OnlineSecurity, dtype: int64\n",
            "\n",
            "Unique Values Count \u001b[1mBefore Standardized \u001b[0m Variable OnlineBackup\n",
            "No                     3045\n",
            "Yes                    2400\n",
            "No internet service    1505\n",
            "Name: OnlineBackup, dtype: int64\n",
            "\n",
            "Unique Values Count \u001b[1mBefore Standardized \u001b[0m Variable DeviceProtection\n",
            "No                     3054\n",
            "Yes                    2391\n",
            "No internet service    1505\n",
            "Name: DeviceProtection, dtype: int64\n",
            "\n",
            "Unique Values Count \u001b[1mBefore Standardized \u001b[0m Variable TechSupport\n",
            "No                     3431\n",
            "Yes                    2014\n",
            "No internet service    1505\n",
            "Name: TechSupport, dtype: int64\n",
            "\n",
            "Unique Values Count \u001b[1mBefore Standardized \u001b[0m Variable StreamingTV\n",
            "No                     2774\n",
            "Yes                    2671\n",
            "No internet service    1505\n",
            "Name: StreamingTV, dtype: int64\n",
            "\n",
            "Unique Values Count \u001b[1mBefore Standardized \u001b[0m Variable StreamingMovies\n",
            "No                     2747\n",
            "Yes                    2698\n",
            "No internet service    1505\n",
            "Name: StreamingMovies, dtype: int64\n",
            "\n",
            "Unique Values Count \u001b[1mBefore Standardized \u001b[0m Variable Contract\n",
            "Month-to-month    3823\n",
            "Two year          1670\n",
            "One year          1457\n",
            "Name: Contract, dtype: int64\n",
            "\n",
            "Unique Values Count \u001b[1mBefore Standardized \u001b[0m Variable PaperlessBilling\n",
            "Yes    4114\n",
            "No     2836\n",
            "Name: PaperlessBilling, dtype: int64\n",
            "\n",
            "Unique Values Count \u001b[1mBefore Standardized \u001b[0m Variable PaymentMethod\n",
            "Electronic check             2337\n",
            "Mailed check                 1594\n",
            "Bank transfer (automatic)    1519\n",
            "Credit card (automatic)      1500\n",
            "Name: PaymentMethod, dtype: int64\n",
            "\n",
            "Unique Values Count \u001b[1mBefore Standardized \u001b[0m Variable Churn\n",
            "No       5114\n",
            "Yes      1827\n",
            "Churn       9\n",
            "Name: Churn, dtype: int64\n"
          ]
        }
      ]
    },
    {
      "cell_type": "markdown",
      "source": [
        "# Menstandarisasi variable kategori"
      ],
      "metadata": {
        "id": "KJiZg5bJ1yTj"
      }
    },
    {
      "cell_type": "code",
      "source": [
        "df_load = df_load.replace(['Wanita','Laki-Laki','Iya','Churn'], ['Female','Male','Yes','Yes'])\n",
        "\n",
        "for col_name in list(['gender','Dependents','Churn']):\n",
        "  print(df_load[col_name].value_counts())"
      ],
      "metadata": {
        "colab": {
          "base_uri": "https://localhost:8080/"
        },
        "id": "PZSf50T3zhas",
        "outputId": "f6604ff4-7700-415d-afac-fdbbfa2757f3"
      },
      "execution_count": 117,
      "outputs": [
        {
          "output_type": "stream",
          "name": "stdout",
          "text": [
            "Male      3505\n",
            "Female    3445\n",
            "Name: gender, dtype: int64\n",
            "No     4870\n",
            "Yes    2080\n",
            "Name: Dependents, dtype: int64\n",
            "No     5114\n",
            "Yes    1836\n",
            "Name: Churn, dtype: int64\n"
          ]
        }
      ]
    },
    {
      "cell_type": "markdown",
      "source": [
        "# Tahapan modeling setelah cleaning data\n",
        "* Melakukan Exploratory Data Analysis\n",
        "* Melakukan Data pre-processing\n",
        "* Melakukan Pemodelan Machine Learning\n",
        "* Menentukan Model Terbaik"
      ],
      "metadata": {
        "id": "vYVt8pk-1k-n"
      }
    },
    {
      "cell_type": "markdown",
      "source": [
        "# Exploratory Data Analysis memungkinan analyst memahami isi data yang digunakan mulai dari:\n",
        "  * distribusi\n",
        "  * frekuensi\n",
        "  * korelasi\n",
        "  * dll\n",
        "## EDA dilakukan dengan beberapa cara:\n",
        "  * Univariat Analysis - analisis desriptif dengan satu variabel\n",
        "  * Bivariat Analysis - analisis relasi dengan dua variabel yang biasanya dengan target variable\n",
        "  * Multivariat Analysis - analisis yang menggunakan lebih dari atau sama dengan tiga variabel\n",
        "## Dalam kasus ini kita diminta untuk melihat persebaran dari\n",
        "  * Presentase persebaran data churn dan tidaknya dari seluruh data\n",
        "  * persebaran data dari variable predictor terhadap label (Churn)"
      ],
      "metadata": {
        "id": "1su_dECdcg-p"
      }
    },
    {
      "cell_type": "code",
      "source": [
        "import matplotlib.pyplot as plt\n",
        "import seaborn as sns\n",
        "sns.set(style='darkgrid')\n",
        "\n",
        "df_load = pd.read_csv('https://storage.googleapis.com/dqlab-dataset/dqlab_telco_final.csv')"
      ],
      "metadata": {
        "id": "HEKjZ1KimrDg"
      },
      "execution_count": 118,
      "outputs": []
    },
    {
      "cell_type": "code",
      "source": [
        "fig = plt.figure()\n",
        "ax = fig.add_axes([0,0,1,1])\n",
        "labels = ['Yes', 'No']\n",
        "churn = df_load.Churn.value_counts()\n",
        "ax.pie(churn, labels=labels, autopct='%.0f%%')\n",
        "plt.show()"
      ],
      "metadata": {
        "colab": {
          "base_uri": "https://localhost:8080/",
          "height": 0
        },
        "id": "Upmgh5BKnJ7l",
        "outputId": "e114c5a5-eb5d-422c-ec54-468ddd18a92a"
      },
      "execution_count": 119,
      "outputs": [
        {
          "output_type": "display_data",
          "data": {
            "text/plain": [
              "<Figure size 432x288 with 1 Axes>"
            ],
            "image/png": "[encoded data removed]"
          },
          "metadata": {}
        }
      ]
    },
    {
      "cell_type": "markdown",
      "source": [
        "* pada tahap C.1 dapat kita ketahui bahwa sebaran data secara kesuluruhan customer tidak melakukan churn, dengan detil Churn sebanyak 26% dan No Churn sebanyak 74%.\n"
      ],
      "metadata": {
        "id": "MtiffgNzw5u4"
      }
    },
    {
      "cell_type": "markdown",
      "source": [
        "# EDA variabel Numerik\n",
        "memilih variable predictor yang bersifat numerik dan membuat plot secara bivariat, kemudian menginterpretasikannya"
      ],
      "metadata": {
        "id": "_S1jn4cInR7W"
      }
    },
    {
      "cell_type": "code",
      "source": [
        "feature = ['MonthlyCharges', 'TotalCharges', 'tenure']\n",
        "fig, ax = plt.subplots(1, 3, figsize=(15, 6))\n",
        "df_load[df_load.Churn == 'No'][feature].hist(bins=20, color='blue', alpha=0.5, ax=ax)\n",
        "df_load[df_load.Churn == 'Yes'][feature].hist(bins=20, color='orange', alpha=0.5, ax=ax)\n",
        "plt.show()"
      ],
      "metadata": {
        "colab": {
          "base_uri": "https://localhost:8080/",
          "height": 0
        },
        "id": "skBXmRZ5op8N",
        "outputId": "742439d7-7a87-491e-89c0-27f98d2886f1"
      },
      "execution_count": 120,
      "outputs": [
        {
          "output_type": "display_data",
          "data": {
            "text/plain": [
              "<Figure size 1080x432 with 3 Axes>"
            ],
            "image/png": "[encoded data removed]"
          },
          "metadata": {}
        }
      ]
    },
    {
      "cell_type": "markdown",
      "source": [
        "* pada tahap ini dapat kita ketahui bahwa untuk MonthlyCharges ada kecenderungan semakin kecil nilai biaya bulanan yang dikenakan, semakin kecil juga kecenderungan untuk melakukan Churn. Untuk TotalCharges terlihat tidak ada kecenderungan apapun terhadap Churn customers. Untuk tenure ada kecenderungan semakin lama berlangganan customer, semakin kecil kecenderungan untuk melakukan Churn."
      ],
      "metadata": {
        "id": "OMNixP6hv_HA"
      }
    },
    {
      "cell_type": "markdown",
      "source": [
        "# EDA Variabel kategorik\n",
        "melakukan pemilihan variable predictor yang bersifat kategorik dan membuat plot secara bivariat, kemudian mengiterpretasikannya"
      ],
      "metadata": {
        "id": "4qIE0Xbqo4Fj"
      }
    },
    {
      "cell_type": "code",
      "source": [
        "fig, ax = plt.subplots(3, 3, figsize=(14,12))\n",
        "sns.countplot(data=df_load, x='gender', hue='Churn', ax=ax[0][0])\n",
        "sns.countplot(data=df_load, x='Partner', hue='Churn', ax=ax[0][1])\n",
        "sns.countplot(data=df_load, x='SeniorCitizen', hue='Churn', ax=ax[0][2])\n",
        "sns.countplot(data=df_load, x='PhoneService', hue='Churn', ax=ax[1][0])\n",
        "sns.countplot(data=df_load, x='StreamingTV', hue='Churn', ax=ax[1][1])\n",
        "sns.countplot(data=df_load, x='InternetService', hue='Churn', ax=ax[1][2])\n",
        "sns.countplot(data=df_load, x='PaperlessBilling', hue='Churn', ax=ax[2][1])\n",
        "plt.tight_layout()\n",
        "plt.show()"
      ],
      "metadata": {
        "colab": {
          "base_uri": "https://localhost:8080/",
          "height": 0
        },
        "id": "_1YYSW5yskio",
        "outputId": "be4d265c-391c-4380-e830-d1a88bbef1bb"
      },
      "execution_count": 121,
      "outputs": [
        {
          "output_type": "display_data",
          "data": {
            "text/plain": [
              "<Figure size 1008x864 with 9 Axes>"
            ],
            "image/png": "[encoded data removed]"
          },
          "metadata": {}
        }
      ]
    },
    {
      "cell_type": "markdown",
      "source": [
        "* pada tahap C.3 dapat kita ketahui bahwa tidak ada perbedaan yang signifikan untuk orang melakukan churn dilihat dari faktor jenis kelamin (gender) dan layanan telfonnya (PhoneService). Akan tetapi ada kecenderungan bahwa orang yang melakukan churn adalah orang-orang yang tidak memiliki partner (partner: No), orang-orang yang statusnya adalah senior citizen(SeniorCitizen: Yes), orang-orang yang mempunyai layanan streaming TV (StreamingTV: Yes), orang-orang yang mempunyai layanan Internet (internetService: Yes) dan orang-orang yang tagihannya paperless (PaperlessBilling: Yes)."
      ],
      "metadata": {
        "id": "kCSE-qE9wZC3"
      }
    },
    {
      "cell_type": "markdown",
      "source": [
        "# Menghapus Unnecessary Columns dari data\n"
      ],
      "metadata": {
        "id": "Pw4O81MAvfSC"
      }
    },
    {
      "cell_type": "code",
      "source": [
        "# cleaned_df = df_load.drop(columns=['customerID','UpdatedAt'])\n",
        "cleaned_df = df_load.drop(['customerID','UpdatedAt'], axis=1)\n",
        "\n",
        "cleaned_df.head()"
      ],
      "metadata": {
        "colab": {
          "base_uri": "https://localhost:8080/",
          "height": 0
        },
        "id": "4f6aUDEmxXOs",
        "outputId": "e4a06e7f-c05d-4216-d49a-528751065bb8"
      },
      "execution_count": 122,
      "outputs": [
        {
          "output_type": "execute_result",
          "data": {
            "text/plain": [
              "   gender SeniorCitizen Partner  tenure PhoneService StreamingTV  \\\n",
              "0  Female            No     Yes       1           No          No   \n",
              "1    Male            No     Yes      60          Yes          No   \n",
              "2    Male            No      No       5          Yes         Yes   \n",
              "3  Female            No     Yes      72          Yes         Yes   \n",
              "4  Female            No     Yes      56          Yes         Yes   \n",
              "\n",
              "  InternetService PaperlessBilling  MonthlyCharges  TotalCharges Churn  \n",
              "0             Yes              Yes           29.85         29.85    No  \n",
              "1              No              Yes           20.50       1198.80    No  \n",
              "2             Yes               No          104.10        541.90   Yes  \n",
              "3             Yes              Yes          115.50       8312.75    No  \n",
              "4             Yes               No           81.25       4620.40    No  "
            ],
            "text/html": [
              "\n",
              "  <div id=\"df-48820d39-e61f-4b0c-a25f-0b1ceaf628e7\">\n",
              "    <div class=\"colab-df-container\">\n",
              "      <div>\n",
              "<style scoped>\n",
              "    .dataframe tbody tr th:only-of-type {\n",
              "        vertical-align: middle;\n",
              "    }\n",
              "\n",
              "    .dataframe tbody tr th {\n",
              "        vertical-align: top;\n",
              "    }\n",
              "\n",
              "    .dataframe thead th {\n",
              "        text-align: right;\n",
              "    }\n",
              "</style>\n",
              "<table border=\"1\" class=\"dataframe\">\n",
              "  <thead>\n",
              "    <tr style=\"text-align: right;\">\n",
              "      <th></th>\n",
              "      <th>gender</th>\n",
              "      <th>SeniorCitizen</th>\n",
              "      <th>Partner</th>\n",
              "      <th>tenure</th>\n",
              "      <th>PhoneService</th>\n",
              "      <th>StreamingTV</th>\n",
              "      <th>InternetService</th>\n",
              "      <th>PaperlessBilling</th>\n",
              "      <th>MonthlyCharges</th>\n",
              "      <th>TotalCharges</th>\n",
              "      <th>Churn</th>\n",
              "    </tr>\n",
              "  </thead>\n",
              "  <tbody>\n",
              "    <tr>\n",
              "      <th>0</th>\n",
              "      <td>Female</td>\n",
              "      <td>No</td>\n",
              "      <td>Yes</td>\n",
              "      <td>1</td>\n",
              "      <td>No</td>\n",
              "      <td>No</td>\n",
              "      <td>Yes</td>\n",
              "      <td>Yes</td>\n",
              "      <td>29.85</td>\n",
              "      <td>29.85</td>\n",
              "      <td>No</td>\n",
              "    </tr>\n",
              "    <tr>\n",
              "      <th>1</th>\n",
              "      <td>Male</td>\n",
              "      <td>No</td>\n",
              "      <td>Yes</td>\n",
              "      <td>60</td>\n",
              "      <td>Yes</td>\n",
              "      <td>No</td>\n",
              "      <td>No</td>\n",
              "      <td>Yes</td>\n",
              "      <td>20.50</td>\n",
              "      <td>1198.80</td>\n",
              "      <td>No</td>\n",
              "    </tr>\n",
              "    <tr>\n",
              "      <th>2</th>\n",
              "      <td>Male</td>\n",
              "      <td>No</td>\n",
              "      <td>No</td>\n",
              "      <td>5</td>\n",
              "      <td>Yes</td>\n",
              "      <td>Yes</td>\n",
              "      <td>Yes</td>\n",
              "      <td>No</td>\n",
              "      <td>104.10</td>\n",
              "      <td>541.90</td>\n",
              "      <td>Yes</td>\n",
              "    </tr>\n",
              "    <tr>\n",
              "      <th>3</th>\n",
              "      <td>Female</td>\n",
              "      <td>No</td>\n",
              "      <td>Yes</td>\n",
              "      <td>72</td>\n",
              "      <td>Yes</td>\n",
              "      <td>Yes</td>\n",
              "      <td>Yes</td>\n",
              "      <td>Yes</td>\n",
              "      <td>115.50</td>\n",
              "      <td>8312.75</td>\n",
              "      <td>No</td>\n",
              "    </tr>\n",
              "    <tr>\n",
              "      <th>4</th>\n",
              "      <td>Female</td>\n",
              "      <td>No</td>\n",
              "      <td>Yes</td>\n",
              "      <td>56</td>\n",
              "      <td>Yes</td>\n",
              "      <td>Yes</td>\n",
              "      <td>Yes</td>\n",
              "      <td>No</td>\n",
              "      <td>81.25</td>\n",
              "      <td>4620.40</td>\n",
              "      <td>No</td>\n",
              "    </tr>\n",
              "  </tbody>\n",
              "</table>\n",
              "</div>\n",
              "      <button class=\"colab-df-convert\" onclick=\"convertToInteractive('df-48820d39-e61f-4b0c-a25f-0b1ceaf628e7')\"\n",
              "              title=\"Convert this dataframe to an interactive table.\"\n",
              "              style=\"display:none;\">\n",
              "        \n",
              "  <svg xmlns=\"http://www.w3.org/2000/svg\" height=\"24px\"viewBox=\"0 0 24 24\"\n",
              "       width=\"24px\">\n",
              "    <path d=\"M0 0h24v24H0V0z\" fill=\"none\"/>\n",
              "    <path d=\"M18.56 5.44l.94 2.06.94-2.06 2.06-.94-2.06-.94-.94-2.06-.94 2.06-2.06.94zm-11 1L8.5 8.5l.94-2.06 2.06-.94-2.06-.94L8.5 2.5l-.94 2.06-2.06.94zm10 10l.94 2.06.94-2.06 2.06-.94-2.06-.94-.94-2.06-.94 2.06-2.06.94z\"/><path d=\"M17.41 7.96l-1.37-1.37c-.4-.4-.92-.59-1.43-.59-.52 0-1.04.2-1.43.59L10.3 9.45l-7.72 7.72c-.78.78-.78 2.05 0 2.83L4 21.41c.39.39.9.59 1.41.59.51 0 1.02-.2 1.41-.59l7.78-7.78 2.81-2.81c.8-.78.8-2.07 0-2.86zM5.41 20L4 18.59l7.72-7.72 1.47 1.35L5.41 20z\"/>\n",
              "  </svg>\n",
              "      </button>\n",
              "      \n",
              "  <style>\n",
              "    .colab-df-container {\n",
              "      display:flex;\n",
              "      flex-wrap:wrap;\n",
              "      gap: 12px;\n",
              "    }\n",
              "\n",
              "    .colab-df-convert {\n",
              "      background-color: #E8F0FE;\n",
              "      border: none;\n",
              "      border-radius: 50%;\n",
              "      cursor: pointer;\n",
              "      display: none;\n",
              "      fill: #1967D2;\n",
              "      height: 32px;\n",
              "      padding: 0 0 0 0;\n",
              "      width: 32px;\n",
              "    }\n",
              "\n",
              "    .colab-df-convert:hover {\n",
              "      background-color: #E2EBFA;\n",
              "      box-shadow: 0px 1px 2px rgba(60, 64, 67, 0.3), 0px 1px 3px 1px rgba(60, 64, 67, 0.15);\n",
              "      fill: #174EA6;\n",
              "    }\n",
              "\n",
              "    [theme=dark] .colab-df-convert {\n",
              "      background-color: #3B4455;\n",
              "      fill: #D2E3FC;\n",
              "    }\n",
              "\n",
              "    [theme=dark] .colab-df-convert:hover {\n",
              "      background-color: #434B5C;\n",
              "      box-shadow: 0px 1px 3px 1px rgba(0, 0, 0, 0.15);\n",
              "      filter: drop-shadow(0px 1px 2px rgba(0, 0, 0, 0.3));\n",
              "      fill: #FFFFFF;\n",
              "    }\n",
              "  </style>\n",
              "\n",
              "      <script>\n",
              "        const buttonEl =\n",
              "          document.querySelector('#df-48820d39-e61f-4b0c-a25f-0b1ceaf628e7 button.colab-df-convert');\n",
              "        buttonEl.style.display =\n",
              "          google.colab.kernel.accessAllowed ? 'block' : 'none';\n",
              "\n",
              "        async function convertToInteractive(key) {\n",
              "          const element = document.querySelector('#df-48820d39-e61f-4b0c-a25f-0b1ceaf628e7');\n",
              "          const dataTable =\n",
              "            await google.colab.kernel.invokeFunction('convertToInteractive',\n",
              "                                                     [key], {});\n",
              "          if (!dataTable) return;\n",
              "\n",
              "          const docLinkHtml = 'Like what you see? Visit the ' +\n",
              "            '<a target=\"_blank\" href=https://colab.research.google.com/notebooks/data_table.ipynb>data table notebook</a>'\n",
              "            + ' to learn more about interactive tables.';\n",
              "          element.innerHTML = '';\n",
              "          dataTable['output_type'] = 'display_data';\n",
              "          await google.colab.output.renderOutput(dataTable, element);\n",
              "          const docLink = document.createElement('div');\n",
              "          docLink.innerHTML = docLinkHtml;\n",
              "          element.appendChild(docLink);\n",
              "        }\n",
              "      </script>\n",
              "    </div>\n",
              "  </div>\n",
              "  "
            ]
          },
          "metadata": {},
          "execution_count": 122
        }
      ]
    },
    {
      "cell_type": "markdown",
      "source": [
        "# Melakukan Data pre-processing\n",
        "Encoding Data"
      ],
      "metadata": {
        "id": "U7IvNqAFxfl0"
      }
    },
    {
      "cell_type": "code",
      "source": [
        "import numpy as np\n",
        "from sklearn.preprocessing import LabelEncoder\n",
        "\n",
        "for data in cleaned_df.columns:\n",
        "  if cleaned_df[data].dtype == np.number: continue\n",
        "\n",
        "  cleaned_df[data] = LabelEncoder().fit_transform(cleaned_df[data])\n",
        "\n",
        "cleaned_df.describe()"
      ],
      "metadata": {
        "colab": {
          "base_uri": "https://localhost:8080/",
          "height": 0
        },
        "id": "0tg5f5UFycpb",
        "outputId": "bd187943-b343-444a-ac04-196bb1dc9096"
      },
      "execution_count": 123,
      "outputs": [
        {
          "output_type": "stream",
          "name": "stderr",
          "text": [
            "<ipython-input-123-cd766ec94d26>:5: DeprecationWarning: Converting `np.inexact` or `np.floating` to a dtype is deprecated. The current result is `float64` which is not strictly correct.\n",
            "  if cleaned_df[data].dtype == np.number: continue\n",
            "<ipython-input-123-cd766ec94d26>:5: DeprecationWarning: Converting `np.inexact` or `np.floating` to a dtype is deprecated. The current result is `float64` which is not strictly correct.\n",
            "  if cleaned_df[data].dtype == np.number: continue\n",
            "<ipython-input-123-cd766ec94d26>:5: DeprecationWarning: Converting `np.inexact` or `np.floating` to a dtype is deprecated. The current result is `float64` which is not strictly correct.\n",
            "  if cleaned_df[data].dtype == np.number: continue\n",
            "<ipython-input-123-cd766ec94d26>:5: DeprecationWarning: Converting `np.inexact` or `np.floating` to a dtype is deprecated. The current result is `float64` which is not strictly correct.\n",
            "  if cleaned_df[data].dtype == np.number: continue\n",
            "<ipython-input-123-cd766ec94d26>:5: DeprecationWarning: Converting `np.inexact` or `np.floating` to a dtype is deprecated. The current result is `float64` which is not strictly correct.\n",
            "  if cleaned_df[data].dtype == np.number: continue\n",
            "<ipython-input-123-cd766ec94d26>:5: DeprecationWarning: Converting `np.inexact` or `np.floating` to a dtype is deprecated. The current result is `float64` which is not strictly correct.\n",
            "  if cleaned_df[data].dtype == np.number: continue\n",
            "<ipython-input-123-cd766ec94d26>:5: DeprecationWarning: Converting `np.inexact` or `np.floating` to a dtype is deprecated. The current result is `float64` which is not strictly correct.\n",
            "  if cleaned_df[data].dtype == np.number: continue\n",
            "<ipython-input-123-cd766ec94d26>:5: DeprecationWarning: Converting `np.inexact` or `np.floating` to a dtype is deprecated. The current result is `float64` which is not strictly correct.\n",
            "  if cleaned_df[data].dtype == np.number: continue\n",
            "<ipython-input-123-cd766ec94d26>:5: DeprecationWarning: Converting `np.inexact` or `np.floating` to a dtype is deprecated. The current result is `float64` which is not strictly correct.\n",
            "  if cleaned_df[data].dtype == np.number: continue\n"
          ]
        },
        {
          "output_type": "execute_result",
          "data": {
            "text/plain": [
              "            gender  SeniorCitizen      Partner       tenure  PhoneService  \\\n",
              "count  6950.000000    6950.000000  6950.000000  6950.000000   6950.000000   \n",
              "mean      0.504317       0.162302     0.483309    32.415827      0.903741   \n",
              "std       0.500017       0.368754     0.499757    24.561336      0.294967   \n",
              "min       0.000000       0.000000     0.000000     0.000000      0.000000   \n",
              "25%       0.000000       0.000000     0.000000     9.000000      1.000000   \n",
              "50%       1.000000       0.000000     0.000000    29.000000      1.000000   \n",
              "75%       1.000000       0.000000     1.000000    55.000000      1.000000   \n",
              "max       1.000000       1.000000     1.000000    73.000000      1.000000   \n",
              "\n",
              "       StreamingTV  InternetService  PaperlessBilling  MonthlyCharges  \\\n",
              "count  6950.000000      6950.000000       6950.000000     6950.000000   \n",
              "mean      0.384317         0.783453          0.591942       64.992201   \n",
              "std       0.486468         0.411921          0.491509       30.032040   \n",
              "min       0.000000         0.000000          0.000000        0.000000   \n",
              "25%       0.000000         1.000000          0.000000       36.462500   \n",
              "50%       0.000000         1.000000          1.000000       70.450000   \n",
              "75%       1.000000         1.000000          1.000000       89.850000   \n",
              "max       1.000000         1.000000          1.000000      169.931250   \n",
              "\n",
              "       TotalCharges        Churn  \n",
              "count   6950.000000  6950.000000  \n",
              "mean    2286.058750     0.264173  \n",
              "std     2265.702553     0.440923  \n",
              "min       19.000000     0.000000  \n",
              "25%      406.975000     0.000000  \n",
              "50%     1400.850000     0.000000  \n",
              "75%     3799.837500     1.000000  \n",
              "max     8889.131250     1.000000  "
            ],
            "text/html": [
              "\n",
              "  <div id=\"df-903d3efa-fc5b-4555-a91b-9827e8b6549a\">\n",
              "    <div class=\"colab-df-container\">\n",
              "      <div>\n",
              "<style scoped>\n",
              "    .dataframe tbody tr th:only-of-type {\n",
              "        vertical-align: middle;\n",
              "    }\n",
              "\n",
              "    .dataframe tbody tr th {\n",
              "        vertical-align: top;\n",
              "    }\n",
              "\n",
              "    .dataframe thead th {\n",
              "        text-align: right;\n",
              "    }\n",
              "</style>\n",
              "<table border=\"1\" class=\"dataframe\">\n",
              "  <thead>\n",
              "    <tr style=\"text-align: right;\">\n",
              "      <th></th>\n",
              "      <th>gender</th>\n",
              "      <th>SeniorCitizen</th>\n",
              "      <th>Partner</th>\n",
              "      <th>tenure</th>\n",
              "      <th>PhoneService</th>\n",
              "      <th>StreamingTV</th>\n",
              "      <th>InternetService</th>\n",
              "      <th>PaperlessBilling</th>\n",
              "      <th>MonthlyCharges</th>\n",
              "      <th>TotalCharges</th>\n",
              "      <th>Churn</th>\n",
              "    </tr>\n",
              "  </thead>\n",
              "  <tbody>\n",
              "    <tr>\n",
              "      <th>count</th>\n",
              "      <td>6950.000000</td>\n",
              "      <td>6950.000000</td>\n",
              "      <td>6950.000000</td>\n",
              "      <td>6950.000000</td>\n",
              "      <td>6950.000000</td>\n",
              "      <td>6950.000000</td>\n",
              "      <td>6950.000000</td>\n",
              "      <td>6950.000000</td>\n",
              "      <td>6950.000000</td>\n",
              "      <td>6950.000000</td>\n",
              "      <td>6950.000000</td>\n",
              "    </tr>\n",
              "    <tr>\n",
              "      <th>mean</th>\n",
              "      <td>0.504317</td>\n",
              "      <td>0.162302</td>\n",
              "      <td>0.483309</td>\n",
              "      <td>32.415827</td>\n",
              "      <td>0.903741</td>\n",
              "      <td>0.384317</td>\n",
              "      <td>0.783453</td>\n",
              "      <td>0.591942</td>\n",
              "      <td>64.992201</td>\n",
              "      <td>2286.058750</td>\n",
              "      <td>0.264173</td>\n",
              "    </tr>\n",
              "    <tr>\n",
              "      <th>std</th>\n",
              "      <td>0.500017</td>\n",
              "      <td>0.368754</td>\n",
              "      <td>0.499757</td>\n",
              "      <td>24.561336</td>\n",
              "      <td>0.294967</td>\n",
              "      <td>0.486468</td>\n",
              "      <td>0.411921</td>\n",
              "      <td>0.491509</td>\n",
              "      <td>30.032040</td>\n",
              "      <td>2265.702553</td>\n",
              "      <td>0.440923</td>\n",
              "    </tr>\n",
              "    <tr>\n",
              "      <th>min</th>\n",
              "      <td>0.000000</td>\n",
              "      <td>0.000000</td>\n",
              "      <td>0.000000</td>\n",
              "      <td>0.000000</td>\n",
              "      <td>0.000000</td>\n",
              "      <td>0.000000</td>\n",
              "      <td>0.000000</td>\n",
              "      <td>0.000000</td>\n",
              "      <td>0.000000</td>\n",
              "      <td>19.000000</td>\n",
              "      <td>0.000000</td>\n",
              "    </tr>\n",
              "    <tr>\n",
              "      <th>25%</th>\n",
              "      <td>0.000000</td>\n",
              "      <td>0.000000</td>\n",
              "      <td>0.000000</td>\n",
              "      <td>9.000000</td>\n",
              "      <td>1.000000</td>\n",
              "      <td>0.000000</td>\n",
              "      <td>1.000000</td>\n",
              "      <td>0.000000</td>\n",
              "      <td>36.462500</td>\n",
              "      <td>406.975000</td>\n",
              "      <td>0.000000</td>\n",
              "    </tr>\n",
              "    <tr>\n",
              "      <th>50%</th>\n",
              "      <td>1.000000</td>\n",
              "      <td>0.000000</td>\n",
              "      <td>0.000000</td>\n",
              "      <td>29.000000</td>\n",
              "      <td>1.000000</td>\n",
              "      <td>0.000000</td>\n",
              "      <td>1.000000</td>\n",
              "      <td>1.000000</td>\n",
              "      <td>70.450000</td>\n",
              "      <td>1400.850000</td>\n",
              "      <td>0.000000</td>\n",
              "    </tr>\n",
              "    <tr>\n",
              "      <th>75%</th>\n",
              "      <td>1.000000</td>\n",
              "      <td>0.000000</td>\n",
              "      <td>1.000000</td>\n",
              "      <td>55.000000</td>\n",
              "      <td>1.000000</td>\n",
              "      <td>1.000000</td>\n",
              "      <td>1.000000</td>\n",
              "      <td>1.000000</td>\n",
              "      <td>89.850000</td>\n",
              "      <td>3799.837500</td>\n",
              "      <td>1.000000</td>\n",
              "    </tr>\n",
              "    <tr>\n",
              "      <th>max</th>\n",
              "      <td>1.000000</td>\n",
              "      <td>1.000000</td>\n",
              "      <td>1.000000</td>\n",
              "      <td>73.000000</td>\n",
              "      <td>1.000000</td>\n",
              "      <td>1.000000</td>\n",
              "      <td>1.000000</td>\n",
              "      <td>1.000000</td>\n",
              "      <td>169.931250</td>\n",
              "      <td>8889.131250</td>\n",
              "      <td>1.000000</td>\n",
              "    </tr>\n",
              "  </tbody>\n",
              "</table>\n",
              "</div>\n",
              "      <button class=\"colab-df-convert\" onclick=\"convertToInteractive('df-903d3efa-fc5b-4555-a91b-9827e8b6549a')\"\n",
              "              title=\"Convert this dataframe to an interactive table.\"\n",
              "              style=\"display:none;\">\n",
              "        \n",
              "  <svg xmlns=\"http://www.w3.org/2000/svg\" height=\"24px\"viewBox=\"0 0 24 24\"\n",
              "       width=\"24px\">\n",
              "    <path d=\"M0 0h24v24H0V0z\" fill=\"none\"/>\n",
              "    <path d=\"M18.56 5.44l.94 2.06.94-2.06 2.06-.94-2.06-.94-.94-2.06-.94 2.06-2.06.94zm-11 1L8.5 8.5l.94-2.06 2.06-.94-2.06-.94L8.5 2.5l-.94 2.06-2.06.94zm10 10l.94 2.06.94-2.06 2.06-.94-2.06-.94-.94-2.06-.94 2.06-2.06.94z\"/><path d=\"M17.41 7.96l-1.37-1.37c-.4-.4-.92-.59-1.43-.59-.52 0-1.04.2-1.43.59L10.3 9.45l-7.72 7.72c-.78.78-.78 2.05 0 2.83L4 21.41c.39.39.9.59 1.41.59.51 0 1.02-.2 1.41-.59l7.78-7.78 2.81-2.81c.8-.78.8-2.07 0-2.86zM5.41 20L4 18.59l7.72-7.72 1.47 1.35L5.41 20z\"/>\n",
              "  </svg>\n",
              "      </button>\n",
              "      \n",
              "  <style>\n",
              "    .colab-df-container {\n",
              "      display:flex;\n",
              "      flex-wrap:wrap;\n",
              "      gap: 12px;\n",
              "    }\n",
              "\n",
              "    .colab-df-convert {\n",
              "      background-color: #E8F0FE;\n",
              "      border: none;\n",
              "      border-radius: 50%;\n",
              "      cursor: pointer;\n",
              "      display: none;\n",
              "      fill: #1967D2;\n",
              "      height: 32px;\n",
              "      padding: 0 0 0 0;\n",
              "      width: 32px;\n",
              "    }\n",
              "\n",
              "    .colab-df-convert:hover {\n",
              "      background-color: #E2EBFA;\n",
              "      box-shadow: 0px 1px 2px rgba(60, 64, 67, 0.3), 0px 1px 3px 1px rgba(60, 64, 67, 0.15);\n",
              "      fill: #174EA6;\n",
              "    }\n",
              "\n",
              "    [theme=dark] .colab-df-convert {\n",
              "      background-color: #3B4455;\n",
              "      fill: #D2E3FC;\n",
              "    }\n",
              "\n",
              "    [theme=dark] .colab-df-convert:hover {\n",
              "      background-color: #434B5C;\n",
              "      box-shadow: 0px 1px 3px 1px rgba(0, 0, 0, 0.15);\n",
              "      filter: drop-shadow(0px 1px 2px rgba(0, 0, 0, 0.3));\n",
              "      fill: #FFFFFF;\n",
              "    }\n",
              "  </style>\n",
              "\n",
              "      <script>\n",
              "        const buttonEl =\n",
              "          document.querySelector('#df-903d3efa-fc5b-4555-a91b-9827e8b6549a button.colab-df-convert');\n",
              "        buttonEl.style.display =\n",
              "          google.colab.kernel.accessAllowed ? 'block' : 'none';\n",
              "\n",
              "        async function convertToInteractive(key) {\n",
              "          const element = document.querySelector('#df-903d3efa-fc5b-4555-a91b-9827e8b6549a');\n",
              "          const dataTable =\n",
              "            await google.colab.kernel.invokeFunction('convertToInteractive',\n",
              "                                                     [key], {});\n",
              "          if (!dataTable) return;\n",
              "\n",
              "          const docLinkHtml = 'Like what you see? Visit the ' +\n",
              "            '<a target=\"_blank\" href=https://colab.research.google.com/notebooks/data_table.ipynb>data table notebook</a>'\n",
              "            + ' to learn more about interactive tables.';\n",
              "          element.innerHTML = '';\n",
              "          dataTable['output_type'] = 'display_data';\n",
              "          await google.colab.output.renderOutput(dataTable, element);\n",
              "          const docLink = document.createElement('div');\n",
              "          docLink.innerHTML = docLinkHtml;\n",
              "          element.appendChild(docLink);\n",
              "        }\n",
              "      </script>\n",
              "    </div>\n",
              "  </div>\n",
              "  "
            ]
          },
          "metadata": {},
          "execution_count": 123
        }
      ]
    },
    {
      "cell_type": "code",
      "source": [
        "from sklearn.model_selection import train_test_split\n",
        "x = cleaned_df.drop('Churn', axis=1)\n",
        "y = cleaned_df['Churn']\n",
        "\n",
        "x_train, x_test, y_train, y_test = train_test_split(x,y, test_size=0.3, random_state=42)\n",
        "\n",
        "print('Jumlah baris dan kolom dari x_train adalah:',x_train.shape, ', sedangkan jumlah baris dan kolom dari y_train adalah:',y_train.shape)\n",
        "print('presentase Churn di data Training adalah:')\n",
        "print(y_train.value_counts(normalize=True))\n",
        "\n",
        "print('\\nJumlah baris dan kolom dari x_test adalah:', x_test.shape, ', sedangkan Jumlah baris dan kolom di y_test adalah:', y_test.shape)\n",
        "print('presentase Churn di data Testing adalah:')\n",
        "print(y_test.value_counts(normalize=True))"
      ],
      "metadata": {
        "colab": {
          "base_uri": "https://localhost:8080/"
        },
        "id": "psFdX-EIyiJ6",
        "outputId": "8a6f0a47-ea0f-4bcd-97e6-7bf92873473a"
      },
      "execution_count": 124,
      "outputs": [
        {
          "output_type": "stream",
          "name": "stdout",
          "text": [
            "Jumlah baris dan kolom dari x_train adalah: (4865, 10) , sedangkan jumlah baris dan kolom dari y_train adalah: (4865,)\n",
            "presentase Churn di data Training adalah:\n",
            "0    0.734841\n",
            "1    0.265159\n",
            "Name: Churn, dtype: float64\n",
            "\n",
            "Jumlah baris dan kolom dari x_test adalah: (2085, 10) , sedangkan Jumlah baris dan kolom di y_test adalah: (2085,)\n",
            "presentase Churn di data Testing adalah:\n",
            "0    0.738129\n",
            "1    0.261871\n",
            "Name: Churn, dtype: float64\n"
          ]
        }
      ]
    },
    {
      "cell_type": "markdown",
      "source": [
        "# Pembuatan model\n",
        "algoritma LogisticRegression"
      ],
      "metadata": {
        "id": "AqbW2TPG2dik"
      }
    },
    {
      "cell_type": "code",
      "source": [
        "from sklearn.linear_model import LogisticRegression\n",
        "\n",
        "log_model = LogisticRegression().fit(x_train, y_train)\n",
        "print('Model Logistic Regression yang terbentuk adalah:', log_model)"
      ],
      "metadata": {
        "colab": {
          "base_uri": "https://localhost:8080/"
        },
        "id": "0-9U0Tf25zYf",
        "outputId": "1a7cacd7-6b5b-4ac1-a0fc-77f9d00443c2"
      },
      "execution_count": 125,
      "outputs": [
        {
          "output_type": "stream",
          "name": "stdout",
          "text": [
            "Model Logistic Regression yang terbentuk adalah: LogisticRegression()\n"
          ]
        },
        {
          "output_type": "stream",
          "name": "stderr",
          "text": [
            "/usr/local/lib/python3.9/dist-packages/sklearn/linear_model/_logistic.py:458: ConvergenceWarning: lbfgs failed to converge (status=1):\n",
            "STOP: TOTAL NO. of ITERATIONS REACHED LIMIT.\n",
            "\n",
            "Increase the number of iterations (max_iter) or scale the data as shown in:\n",
            "    https://scikit-learn.org/stable/modules/preprocessing.html\n",
            "Please also refer to the documentation for alternative solver options:\n",
            "    https://scikit-learn.org/stable/modules/linear_model.html#logistic-regression\n",
            "  n_iter_i = _check_optimize_result(\n"
          ]
        }
      ]
    },
    {
      "cell_type": "markdown",
      "source": [
        "## Performansi model Training - Menampilkan Metrics"
      ],
      "metadata": {
        "id": "zrQRJrgs6Kvd"
      }
    },
    {
      "cell_type": "code",
      "source": [
        "from sklearn.metrics import classification_report\n",
        "\n",
        "y_pred = log_model.predict(x_train)\n",
        "\n",
        "print('Classification Report Training Model (Logistic Regression) :')\n",
        "print(classification_report(y_train, y_pred))"
      ],
      "metadata": {
        "colab": {
          "base_uri": "https://localhost:8080/"
        },
        "id": "pl1uvyyg6W6F",
        "outputId": "53de5e1c-01a8-47d4-a87e-3b321a524ad2"
      },
      "execution_count": 126,
      "outputs": [
        {
          "output_type": "stream",
          "name": "stdout",
          "text": [
            "Classification Report Training Model (Logistic Regression) :\n",
            "              precision    recall  f1-score   support\n",
            "\n",
            "           0       0.83      0.90      0.87      3575\n",
            "           1       0.65      0.50      0.56      1290\n",
            "\n",
            "    accuracy                           0.79      4865\n",
            "   macro avg       0.74      0.70      0.71      4865\n",
            "weighted avg       0.78      0.79      0.79      4865\n",
            "\n"
          ]
        }
      ]
    },
    {
      "cell_type": "markdown",
      "source": [
        "## Performasi Model Training - Menampilkan plots"
      ],
      "metadata": {
        "id": "FgyXIhkm7M18"
      }
    },
    {
      "cell_type": "code",
      "source": [
        "from sklearn.metrics import confusion_matrix\n",
        "\n",
        "confusion_matrix_df = pd.DataFrame((confusion_matrix(y_train, y_pred)), ('No Churn', 'Churn'), ('No churn', 'Churn'))\n",
        "\n",
        "plt.figure()\n",
        "heatmap = sns.heatmap(confusion_matrix_df, annot=True, annot_kws={'size':14}, fmt='d', cmap='YlGnBu')\n",
        "heatmap.yaxis.set_ticklabels(heatmap.yaxis.get_ticklabels(), rotation=0, ha='right', fontsize=14)\n",
        "heatmap.xaxis.set_ticklabels(heatmap.xaxis.get_ticklabels(), rotation=0, ha='right', fontsize=14)\n",
        "\n",
        "plt.title('Confusion Matrix for Training Model\\n(Logistic Regression)', fontsize=18, color='darkblue')\n",
        "plt.ylabel('True label', fontsize=14)\n",
        "plt.xlabel('Predicted label', fontsize=14)\n",
        "plt.tight_layout()\n",
        "plt.show()"
      ],
      "metadata": {
        "colab": {
          "base_uri": "https://localhost:8080/",
          "height": 293
        },
        "id": "2NuOZAL87gvi",
        "outputId": "cd166d4e-2aa6-4b8d-9837-5303ceef2fd5"
      },
      "execution_count": 127,
      "outputs": [
        {
          "output_type": "display_data",
          "data": {
            "text/plain": [
              "<Figure size 432x288 with 2 Axes>"
            ],
            "image/png": "[encoded data removed]"
          },
          "metadata": {}
        }
      ]
    },
    {
      "cell_type": "markdown",
      "source": [
        "## Performansi Data Testing - Menampilkan Metrics"
      ],
      "metadata": {
        "id": "EIA0dnKfIigF"
      }
    },
    {
      "cell_type": "code",
      "source": [
        "y_pred = log_model.predict(x_test)\n",
        "print(classification_report(y_test, y_pred))"
      ],
      "metadata": {
        "colab": {
          "base_uri": "https://localhost:8080/"
        },
        "id": "VHgcv70ANLU1",
        "outputId": "79173764-51e4-4523-c5aa-29a764f35df9"
      },
      "execution_count": 128,
      "outputs": [
        {
          "output_type": "stream",
          "name": "stdout",
          "text": [
            "              precision    recall  f1-score   support\n",
            "\n",
            "           0       0.83      0.90      0.87      1539\n",
            "           1       0.64      0.49      0.56       546\n",
            "\n",
            "    accuracy                           0.79      2085\n",
            "   macro avg       0.74      0.70      0.71      2085\n",
            "weighted avg       0.78      0.79      0.79      2085\n",
            "\n"
          ]
        }
      ]
    },
    {
      "cell_type": "markdown",
      "source": [
        "## Performansi Data Testing - Menampilkan Plots"
      ],
      "metadata": {
        "id": "3MFSKqcXbP63"
      }
    },
    {
      "cell_type": "code",
      "source": [
        "# create dataframe\n",
        "confusion_df = pd.DataFrame((confusion_matrix(y_test,y_pred)), ('No churn', 'Churn'), ('No churn', 'Churn'))\n",
        "\n",
        "heatmap = sns.heatmap(confusion_df, annot=True, annot_kws={'size':14}, fmt='d', cmap='YlGnBu')\n",
        "heatmap.yaxis.set_ticklabels(heatmap.yaxis.get_ticklabels(), rotation=0, ha='right', fontsize=14)\n",
        "heatmap.xaxis.set_ticklabels(heatmap.xaxis.get_ticklabels(), rotation=0, ha='right', fontsize=14)\n",
        "\n",
        "plt.title('Confusion Matrix for Testing Model\\n(Logistic Regression)\\n', fontsize=18)\n",
        "plt.ylabel('True label', fontsize=14)\n",
        "plt.xlabel('Predict label', fontsize=14)\n",
        "plt.tight_layout()\n",
        "plt.show()"
      ],
      "metadata": {
        "colab": {
          "base_uri": "https://localhost:8080/",
          "height": 293
        },
        "id": "HnLw8cJLc0j1",
        "outputId": "606faa6e-dfb2-42ad-c01e-f380750f8cf4"
      },
      "execution_count": 129,
      "outputs": [
        {
          "output_type": "display_data",
          "data": {
            "text/plain": [
              "<Figure size 432x288 with 2 Axes>"
            ],
            "image/png": "[encoded data removed]"
          },
          "metadata": {}
        }
      ]
    },
    {
      "cell_type": "markdown",
      "source": [
        "* Jika kita menggunakan menggunakan algoritma logistic regression dengan memanggil LogisticRegression() dari sklearn tanpa menambahi parameter apapun, maka yang dihasilkan adalah model dengan seting default dari sklearn, untuk detilnya bisa dilihat di dokumentasinya.\n",
        "* Dari data training terlihat bahwasannya model mampu memprediksi data dengan menghasilkan akurasi sebesar 80%, dengan detil tebakan churn yang sebenernya benar churn adalah 638, tebakan tidak churn yang sebenernya tidak churn adalah 3237, tebakan tidak churn yang sebenernya benar churn adalah 652 dan tebakan churn yang sebenernya tidak churn adalah 338.\n",
        "* Dari data testing terlihat bahwasannya model mampu memprediksi data dengan menghasilkan akurasi sebesar 79%, dengan detil tebakan churn yang sebenernya benar churn adalah 264, tebakan tidak churn yang sebenernya tidak churn adalah 1392, tebakan tidak churn yang sebenernya benar churn adalah 282 dan tebakan churn yang sebenernya tidak churn adalah 146."
      ],
      "metadata": {
        "id": "RyR95p4jeI86"
      }
    },
    {
      "cell_type": "markdown",
      "source": [
        "# Pembuatan model\n",
        "RandomForestClassifier"
      ],
      "metadata": {
        "id": "-JnruCxKehAZ"
      }
    },
    {
      "cell_type": "code",
      "source": [
        "from sklearn.ensemble import RandomForestClassifier\n",
        "\n",
        "rdf_model = RandomForestClassifier().fit(x_train, y_train)\n",
        "print(rdf_model)"
      ],
      "metadata": {
        "colab": {
          "base_uri": "https://localhost:8080/"
        },
        "id": "avY-l24ig9gI",
        "outputId": "ec81255f-2672-411b-bfe8-e9ac7f258ac5"
      },
      "execution_count": 130,
      "outputs": [
        {
          "output_type": "stream",
          "name": "stdout",
          "text": [
            "RandomForestClassifier()\n"
          ]
        }
      ]
    },
    {
      "cell_type": "markdown",
      "source": [
        "## Performansi Data Training - Menampilkan Matrics"
      ],
      "metadata": {
        "id": "92y6_7VAjIke"
      }
    },
    {
      "cell_type": "code",
      "source": [
        "y_pred = rdf_model.predict(x_train)\n",
        "\n",
        "print(classification_report(y_train, y_pred))"
      ],
      "metadata": {
        "colab": {
          "base_uri": "https://localhost:8080/"
        },
        "id": "PArQV0D1hIgl",
        "outputId": "11399667-fa89-4613-8863-027915aa6188"
      },
      "execution_count": 131,
      "outputs": [
        {
          "output_type": "stream",
          "name": "stdout",
          "text": [
            "              precision    recall  f1-score   support\n",
            "\n",
            "           0       1.00      1.00      1.00      3575\n",
            "           1       0.99      0.99      0.99      1290\n",
            "\n",
            "    accuracy                           1.00      4865\n",
            "   macro avg       1.00      0.99      0.99      4865\n",
            "weighted avg       1.00      1.00      1.00      4865\n",
            "\n"
          ]
        }
      ]
    },
    {
      "cell_type": "markdown",
      "source": [
        "## Performasi Data Training Menampilkan Plots"
      ],
      "metadata": {
        "id": "Pr4p9ZcMh1JM"
      }
    },
    {
      "cell_type": "code",
      "source": [
        "confusion_matrix_df = pd.DataFrame((confusion_matrix(y_train, y_pred)), ('No churn', 'Churn'), ('No churn', 'Churn'))\n",
        "\n",
        "heatmap = sns.heatmap(confusion_matrix_df, annot=True, fmt='d', annot_kws={'size':14}, cmap='YlGnBu')\n",
        "\n",
        "heatmap.yaxis.set_ticklabels(heatmap.yaxis.get_ticklabels(), rotation=0, ha='right', fontsize=14)\n",
        "heatmap.xaxis.set_ticklabels(heatmap.xaxis.get_ticklabels(), rotation=0, ha='right', fontsize=14)\n",
        "\n",
        "plt.title('Confusion Matrix for Training Model\\n(Random Forest)', fontsize=18, color='darkblue')\n",
        "plt.ylabel('True label', fontsize=14)\n",
        "plt.xlabel('Predict label', fontsize=14)\n",
        "plt.tight_layout()\n",
        "plt.show()"
      ],
      "metadata": {
        "colab": {
          "base_uri": "https://localhost:8080/",
          "height": 0
        },
        "id": "kIFrt17UjOtC",
        "outputId": "ceac40b5-b42b-4aa0-ef80-298b2a666426"
      },
      "execution_count": 132,
      "outputs": [
        {
          "output_type": "display_data",
          "data": {
            "text/plain": [
              "<Figure size 432x288 with 2 Axes>"
            ],
            "image/png": "[encoded data removed]"
          },
          "metadata": {}
        }
      ]
    },
    {
      "cell_type": "markdown",
      "source": [
        "## Performa data testing - menampilkan matrics"
      ],
      "metadata": {
        "id": "fJzu_QLvkdDn"
      }
    },
    {
      "cell_type": "code",
      "source": [
        "y_pred = rdf_model.predict(x_test)\n",
        "\n",
        "print(classification_report(y_test, y_pred))"
      ],
      "metadata": {
        "colab": {
          "base_uri": "https://localhost:8080/"
        },
        "id": "07DzYVRbqCaV",
        "outputId": "420d61ef-7092-4099-a239-6cd21a32e841"
      },
      "execution_count": 133,
      "outputs": [
        {
          "output_type": "stream",
          "name": "stdout",
          "text": [
            "              precision    recall  f1-score   support\n",
            "\n",
            "           0       0.83      0.89      0.86      1539\n",
            "           1       0.60      0.48      0.53       546\n",
            "\n",
            "    accuracy                           0.78      2085\n",
            "   macro avg       0.71      0.68      0.69      2085\n",
            "weighted avg       0.77      0.78      0.77      2085\n",
            "\n"
          ]
        }
      ]
    },
    {
      "cell_type": "markdown",
      "source": [
        "## Performansi Data Testing - Menampilkan Plots"
      ],
      "metadata": {
        "id": "O9rObt6BqQj9"
      }
    },
    {
      "cell_type": "code",
      "source": [
        "confusion_matrix_df = pd.DataFrame((confusion_matrix(y_test, y_pred)), ('No churn', 'Churn'), ('No churn','Churn'))\n",
        "\n",
        "heatmap = sns.heatmap(confusion_matrix_df, annot=True, annot_kws={'size':14}, fmt='d', cmap='YlGnBu')\n",
        "heatmap.yaxis.set_ticklabels(heatmap.yaxis.get_ticklabels(), rotation=0, ha='right', fontsize=14)\n",
        "heatmap.xaxis.set_ticklabels(heatmap.xaxis.get_ticklabels(), rotation=0, ha='right', fontsize=14)\n",
        "\n",
        "plt.title('Confusion Matrix for Testing Model\\n(Random Forest)\\n', fontsize=18)\n",
        "plt.ylabel('True label', fontsize=14)\n",
        "plt.xlabel('Predict label', fontsize=14)\n",
        "plt.tight_layout()\n",
        "plt.show()"
      ],
      "metadata": {
        "colab": {
          "base_uri": "https://localhost:8080/",
          "height": 293
        },
        "id": "Js2mIkP7r5Zj",
        "outputId": "a788a7bc-4593-419b-ea34-c64cb0d3637b"
      },
      "execution_count": 134,
      "outputs": [
        {
          "output_type": "display_data",
          "data": {
            "text/plain": [
              "<Figure size 432x288 with 2 Axes>"
            ],
            "image/png": "[encoded data removed]"
          },
          "metadata": {}
        }
      ]
    },
    {
      "cell_type": "markdown",
      "source": [
        "* Jika kita menggunakan menggunakan algoritma Random Forest dengan memanggil RandomForestClassifier() dari sklearn tanpa menambahi parameter apapun, maka yang dihasilkan adalah model dengan seting default dari sklearn, untuk detilnya bisa dilihat di dokumentasinya.\n",
        "* Dari data training terlihat bahwasannya model mampu memprediksi data dengan menghasilkan akurasi sebesar 100%, dengan detil tebakan churn yang sebenernya benar churn adalah 1278, tebakan tidak churn yang sebenernya tidak churn adalah 3566, tebakan tidak churn yang sebenernya benar churn adalah 12 dan tebakan churn yang sebenernya tidak churn adalah 9.\n",
        "* Dari data testing terlihat bahwasannya model mampu memprediksi data dengan menghasilkan akurasi sebesar 78%, dengan detil tebakan churn yang sebenernya benar churn adalah 262, tebakan tidak churn yang sebenernya tidak churn adalah 1360, tebakan tidak churn yang sebenernya benar churn adalah 284 dan tebakan churn yang sebenernya tidak churn adalah 179."
      ],
      "metadata": {
        "id": "7x1pRpzqte_w"
      }
    },
    {
      "cell_type": "code",
      "source": [],
      "metadata": {
        "id": "zZykbi_Nt4mn"
      },
      "execution_count": 134,
      "outputs": []
    },
    {
      "cell_type": "markdown",
      "source": [
        "# Pembuatan Model\n",
        "GradientBoostingClassifier()"
      ],
      "metadata": {
        "id": "Z7BRfvU-uRHP"
      }
    },
    {
      "cell_type": "code",
      "source": [
        "from sklearn.ensemble import GradientBoostingClassifier\n",
        "\n",
        "gbc_model = GradientBoostingClassifier().fit(x_train, y_train)\n",
        "print(gbc_model)"
      ],
      "metadata": {
        "colab": {
          "base_uri": "https://localhost:8080/"
        },
        "id": "T5FeUQxkuVxG",
        "outputId": "88e80f15-37a2-4911-9bc1-3d5a1d56093c"
      },
      "execution_count": 135,
      "outputs": [
        {
          "output_type": "stream",
          "name": "stdout",
          "text": [
            "GradientBoostingClassifier()\n"
          ]
        }
      ]
    },
    {
      "cell_type": "markdown",
      "source": [
        "## Performansi Model Data Training - Menampilkan Matrics"
      ],
      "metadata": {
        "id": "9QQrwFHmutLt"
      }
    },
    {
      "cell_type": "code",
      "source": [
        "y_pred = gbc_model.predict(x_train)\n",
        "\n",
        "print(classification_report(y_train, y_pred))"
      ],
      "metadata": {
        "colab": {
          "base_uri": "https://localhost:8080/"
        },
        "id": "p3Vb3quW1WU7",
        "outputId": "3189c088-b0b3-4780-dfaa-c65e69be18db"
      },
      "execution_count": 136,
      "outputs": [
        {
          "output_type": "stream",
          "name": "stdout",
          "text": [
            "              precision    recall  f1-score   support\n",
            "\n",
            "           0       0.84      0.92      0.88      3575\n",
            "           1       0.70      0.53      0.60      1290\n",
            "\n",
            "    accuracy                           0.82      4865\n",
            "   macro avg       0.77      0.72      0.74      4865\n",
            "weighted avg       0.81      0.82      0.81      4865\n",
            "\n"
          ]
        }
      ]
    },
    {
      "cell_type": "markdown",
      "source": [
        "## Performasi Model Data Training - Menampilkan plot"
      ],
      "metadata": {
        "id": "4yRRGADk1djS"
      }
    },
    {
      "cell_type": "code",
      "source": [
        "confusion_matrix_df = pd.DataFrame((confusion_matrix(y_train, y_pred)), ('No churn', 'Churn'), ('No churn', 'Churn'))\n",
        "\n",
        "plt.figure()\n",
        "heatmap = sns.heatmap(confusion_matrix_df, annot=True, annot_kws={'size': 14}, fmt='d', cmap='YlGnBu')\n",
        "heatmap.yaxis.set_ticklabels(heatmap.yaxis.get_ticklabels(), rotation=0, ha='right', fontsize=14)\n",
        "heatmap.xaxis.set_ticklabels(heatmap.xaxis.get_ticklabels(), rotation=0, ha='right', fontsize=14)\n",
        "\n"
      ],
      "metadata": {
        "colab": {
          "base_uri": "https://localhost:8080/",
          "height": 291
        },
        "id": "xPo1Qxa41jaJ",
        "outputId": "883dc172-bdbc-491d-f24d-2021accd9936"
      },
      "execution_count": 137,
      "outputs": [
        {
          "output_type": "execute_result",
          "data": {
            "text/plain": [
              "[Text(0.5, 0, 'No churn'), Text(1.5, 0, 'Churn')]"
            ]
          },
          "metadata": {},
          "execution_count": 137
        },
        {
          "output_type": "display_data",
          "data": {
            "text/plain": [
              "<Figure size 432x288 with 2 Axes>"
            ],
            "image/png": "[encoded data removed]"
          },
          "metadata": {}
        }
      ]
    },
    {
      "cell_type": "markdown",
      "source": [
        "## Performasi Model Data Testing - Menampilkan Matrics"
      ],
      "metadata": {
        "id": "eDi_6Exw2Pk5"
      }
    },
    {
      "cell_type": "code",
      "source": [
        "y_pred = gbc_model.predict(x_test)\n",
        "\n",
        "print(classification_report(y_test, y_pred))"
      ],
      "metadata": {
        "colab": {
          "base_uri": "https://localhost:8080/"
        },
        "id": "G5CUUeGu5dyr",
        "outputId": "0f91c658-f6c4-4fad-a7cd-0a3c930c0a9f"
      },
      "execution_count": 138,
      "outputs": [
        {
          "output_type": "stream",
          "name": "stdout",
          "text": [
            "              precision    recall  f1-score   support\n",
            "\n",
            "           0       0.83      0.91      0.87      1539\n",
            "           1       0.64      0.48      0.55       546\n",
            "\n",
            "    accuracy                           0.79      2085\n",
            "   macro avg       0.74      0.69      0.71      2085\n",
            "weighted avg       0.78      0.79      0.78      2085\n",
            "\n"
          ]
        }
      ]
    },
    {
      "cell_type": "code",
      "source": [
        "confusion_matrix_df = pd.DataFrame(confusion_matrix(y_test, y_pred), ('No churn', 'Churn'), ('No churn', 'Churn'))\n",
        "\n",
        "plt.figure()\n",
        "headmap = sns.heatmap(confusion_matrix_df, annot=True, annot_kws={'size':14}, fmt='d', cmap='YlGnBu')\n",
        "headmap.yaxis.set_ticklabels(headmap.yaxis.get_ticklabels(), rotation=0, ha='right', fontsize=14)\n",
        "headmap.xaxis.set_ticklabels(headmap.xaxis.get_ticklabels(), rotation=0, ha='right', fontsize=14)"
      ],
      "metadata": {
        "colab": {
          "base_uri": "https://localhost:8080/",
          "height": 291
        },
        "id": "n5fw3M-Z5mKr",
        "outputId": "094ac74d-fade-44f6-f7bb-1ea6cbd7ad23"
      },
      "execution_count": 139,
      "outputs": [
        {
          "output_type": "execute_result",
          "data": {
            "text/plain": [
              "[Text(0.5, 0, 'No churn'), Text(1.5, 0, 'Churn')]"
            ]
          },
          "metadata": {},
          "execution_count": 139
        },
        {
          "output_type": "display_data",
          "data": {
            "text/plain": [
              "<Figure size 432x288 with 2 Axes>"
            ],
            "image/png": "[encoded data removed]"
          },
          "metadata": {}
        }
      ]
    },
    {
      "cell_type": "markdown",
      "source": [
        "* Jika kita menggunakan menggunakan algoritma Gradient Boosting dengan memanggil GradientBoostingClassifier() dari package sklearn tanpa menambahi parameter apapun, maka yang dihasilkan adalah model dengan seting default dari sklearn, untuk detilnya bisa dilihat di dokumentasinya.\n",
        "* Dari data training terlihat bahwasannya model mampu memprediksi data dengan menghasilkan akurasi sebesar 82%, dengan detil tebakan churn yang sebenernya benar churn adalah 684, tebakan tidak churn yang sebenernya tidak churn adalah 3286, tebakan tidak churn yang sebenernya benar churn adalah 606 dan tebakan churn yang sebenernya tidak churn adalah 289.\n",
        "* Dari data testing terlihat bahwasannya model mampu memprediksi data dengan menghasilkan akurasi sebesar 79%, dengan detil tebakan churn yang sebenernya benar churn adalah 261, tebakan tidak churn yang sebenernya tidak churn adalah 1394, tebakan tidak churn yang sebenernya benar churn adalah 285 dan tebakan churn yang sebenernya tidak churn adalah 145."
      ],
      "metadata": {
        "id": "vD6g04M06X_Z"
      }
    },
    {
      "cell_type": "markdown",
      "source": [
        "# Menentukan Algoritma Model Terbaik"
      ],
      "metadata": {
        "id": "RQOXtLHD7R2q"
      }
    },
    {
      "cell_type": "markdown",
      "source": [
        "Model yang baik adalah model yang mampu memberikan performa bagus di fase training dan testing model.\n",
        "\n",
        "* Over-Fitting adalah suatu kondisi dimana model mampu memprediksi dengan sangat baik di fase training, akan tetapi tidak mampu memprediksi sama baiknya di fase testing.\n",
        "* Under-Fitting adalah suatu kondisi dimana model kurang mampu memprediksi dengan baik di fase training, akan tetapi mampu memprediksi dengan baik di fase testing.\n",
        "* Appropriate-Fitting adalah suatu kondisi dimana model mampu memprediksi dengan baik di fase training maupun di fase testing."
      ],
      "metadata": {
        "id": "EohpAluD7YZf"
      }
    },
    {
      "cell_type": "markdown",
      "source": [
        "Selanjutnya kita akan menentukan model algoritma terbaik dari model yang sudah di lakukan di atas (Appropriate-Fitting), kemudian kita simpan sebagai file best_model_churn.pkl dengan tujuan untuk deployment model nantinya kita tidak perlu mengulang lagi pemodelan, cukup memanggil file tersebut saja. Simpan di file direktori sesuai dataset berada, kemudian check apakah file tersebut benar tersimpan atau tidak. Gunakan dump() dari pickle untuk menyimpan file.\n",
        "\n",
        "# Save Model\n",
        "pickle.dump(log_model, open('best_model_churn.pkl', 'wb')"
      ],
      "metadata": {
        "id": "uzCCCr1S_40I"
      }
    },
    {
      "cell_type": "code",
      "source": [
        "import numpy as np\n",
        "import pandas as pd\n",
        "from sklearn.preprocessing import LabelEncoder\n",
        "from sklearn.model_selection import train_test_split\n",
        "from sklearn.linear_model import LogisticRegression\n",
        "import pickle\n",
        "\n",
        "df_load = pd.read_csv('https://storage.googleapis.com/dqlab-dataset/dqlab_telco_final.csv')\n",
        "cleaned_df = df_load.drop(['customerID','UpdatedAt'], axis=1)\n",
        "\n",
        "for column in cleaned_df.columns:\n",
        "    if cleaned_df[column].dtype == np.number: continue\n",
        "    cleaned_df[column] = LabelEncoder().fit_transform(cleaned_df[column])\n",
        "\n",
        "X = cleaned_df.drop('Churn', axis = 1) \n",
        "y = cleaned_df['Churn']\n",
        "x_train, x_test, y_train, y_test = train_test_split(X, y, test_size=0.3, random_state=42)\n",
        "log_model = LogisticRegression().fit(x_train, y_train)\n",
        "\n",
        "# save Model\n",
        "pickle.dump(log_model, open('best_model_churn.pkl', 'wb'))\n",
        "\n",
        "print(log_model)"
      ],
      "metadata": {
        "colab": {
          "base_uri": "https://localhost:8080/"
        },
        "id": "y6MCU4OkBBUO",
        "outputId": "1229e4dc-ecaf-4b1e-96d0-fad382713504"
      },
      "execution_count": 140,
      "outputs": [
        {
          "output_type": "stream",
          "name": "stdout",
          "text": [
            "LogisticRegression()\n"
          ]
        },
        {
          "output_type": "stream",
          "name": "stderr",
          "text": [
            "<ipython-input-140-94a019ae4125>:12: DeprecationWarning: Converting `np.inexact` or `np.floating` to a dtype is deprecated. The current result is `float64` which is not strictly correct.\n",
            "  if cleaned_df[column].dtype == np.number: continue\n",
            "<ipython-input-140-94a019ae4125>:12: DeprecationWarning: Converting `np.inexact` or `np.floating` to a dtype is deprecated. The current result is `float64` which is not strictly correct.\n",
            "  if cleaned_df[column].dtype == np.number: continue\n",
            "<ipython-input-140-94a019ae4125>:12: DeprecationWarning: Converting `np.inexact` or `np.floating` to a dtype is deprecated. The current result is `float64` which is not strictly correct.\n",
            "  if cleaned_df[column].dtype == np.number: continue\n",
            "<ipython-input-140-94a019ae4125>:12: DeprecationWarning: Converting `np.inexact` or `np.floating` to a dtype is deprecated. The current result is `float64` which is not strictly correct.\n",
            "  if cleaned_df[column].dtype == np.number: continue\n",
            "<ipython-input-140-94a019ae4125>:12: DeprecationWarning: Converting `np.inexact` or `np.floating` to a dtype is deprecated. The current result is `float64` which is not strictly correct.\n",
            "  if cleaned_df[column].dtype == np.number: continue\n",
            "<ipython-input-140-94a019ae4125>:12: DeprecationWarning: Converting `np.inexact` or `np.floating` to a dtype is deprecated. The current result is `float64` which is not strictly correct.\n",
            "  if cleaned_df[column].dtype == np.number: continue\n",
            "<ipython-input-140-94a019ae4125>:12: DeprecationWarning: Converting `np.inexact` or `np.floating` to a dtype is deprecated. The current result is `float64` which is not strictly correct.\n",
            "  if cleaned_df[column].dtype == np.number: continue\n",
            "<ipython-input-140-94a019ae4125>:12: DeprecationWarning: Converting `np.inexact` or `np.floating` to a dtype is deprecated. The current result is `float64` which is not strictly correct.\n",
            "  if cleaned_df[column].dtype == np.number: continue\n",
            "<ipython-input-140-94a019ae4125>:12: DeprecationWarning: Converting `np.inexact` or `np.floating` to a dtype is deprecated. The current result is `float64` which is not strictly correct.\n",
            "  if cleaned_df[column].dtype == np.number: continue\n",
            "/usr/local/lib/python3.9/dist-packages/sklearn/linear_model/_logistic.py:458: ConvergenceWarning: lbfgs failed to converge (status=1):\n",
            "STOP: TOTAL NO. of ITERATIONS REACHED LIMIT.\n",
            "\n",
            "Increase the number of iterations (max_iter) or scale the data as shown in:\n",
            "    https://scikit-learn.org/stable/modules/preprocessing.html\n",
            "Please also refer to the documentation for alternative solver options:\n",
            "    https://scikit-learn.org/stable/modules/linear_model.html#logistic-regression\n",
            "  n_iter_i = _check_optimize_result(\n"
          ]
        }
      ]
    },
    {
      "cell_type": "code",
      "source": [
        "LR = pickle.load(open('best_model_churn.pkl', 'rb'))\n",
        "\n",
        "y = LR.predict(x_train)\n",
        "print(y)"
      ],
      "metadata": {
        "colab": {
          "base_uri": "https://localhost:8080/"
        },
        "id": "90OsQABgB1X1",
        "outputId": "5d0035c7-0efc-4acd-c838-382b83491d7b"
      },
      "execution_count": 145,
      "outputs": [
        {
          "output_type": "stream",
          "name": "stdout",
          "text": [
            "[0 0 0 ... 1 0 0]\n"
          ]
        }
      ]
    },
    {
      "cell_type": "markdown",
      "source": [
        "Berdasarkan pemodelan yang telah dilakukan dengan menggunakan Logistic Regression, Random Forest dan Extreme Gradiant Boost, maka dapat disimpulkan untuk memprediksi churn dari pelanggan telco dengan menggunakan dataset ini model terbaiknya adalah menggunakan algortima Logistic Regression. Hal ini dikarenakan performa dari model Logistic Regression cenderung mampu memprediksi sama baiknya di fase training maupun testing (akurasi training 80%, akurasi testing 79%), dilain sisi algoritma lainnya cenderung Over-Fitting performanya. Akan tetapi hal ini tidak menjadikan kita untuk menarik kesimpulan bahwsannya jika untuk melakukan pemodelan apapun maka digunakan Logistic Regression, kita tetap harus melakukan banyak percobaan model untuk menentukan mana yang terbaik."
      ],
      "metadata": {
        "id": "oL_bkKNPCfJ0"
      }
    },
    {
      "cell_type": "code",
      "source": [],
      "metadata": {
        "id": "qOyE8d6KDNFC"
      },
      "execution_count": null,
      "outputs": []
    }
  ]
}